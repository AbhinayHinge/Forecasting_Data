{
  "nbformat": 4,
  "nbformat_minor": 0,
  "metadata": {
    "colab": {
      "provenance": [],
      "collapsed_sections": []
    },
    "kernelspec": {
      "name": "python3",
      "display_name": "Python 3"
    },
    "language_info": {
      "name": "python"
    }
  },
  "cells": [
    {
      "cell_type": "markdown",
      "source": [
        "## **ARIMA and Seasonal ARIMA**\n",
        "**A**uto**r**egressive **I**ntegrated **M**oving Averages "
      ],
      "metadata": {
        "id": "oENQEFJ9d0wN"
      }
    },
    {
      "cell_type": "markdown",
      "source": [
        "## 1. Importing necessary packages and Read dataset"
      ],
      "metadata": {
        "id": "TJGi7fjkgmug"
      }
    },
    {
      "cell_type": "code",
      "execution_count": 1,
      "metadata": {
        "id": "TSXQLZd7b169"
      },
      "outputs": [],
      "source": [
        "import numpy as np\n",
        "import pandas as pd \n",
        "import matplotlib.pyplot as plt\n",
        "%matplotlib inline\n",
        "import seaborn as sns"
      ]
    },
    {
      "cell_type": "code",
      "source": [
        "df=pd.read_csv('https://raw.githubusercontent.com/AbhinayHinge/Forecasting_Data/main/forecastingdata.csv')\n",
        "df.head()"
      ],
      "metadata": {
        "colab": {
          "base_uri": "https://localhost:8080/",
          "height": 206
        },
        "id": "pHHbPNeHda4v",
        "outputId": "171dd2b2-5ea5-4795-9e4f-5f1a73599272"
      },
      "execution_count": 2,
      "outputs": [
        {
          "output_type": "execute_result",
          "data": {
            "text/plain": [
              "         date  store    Cars  sales\n",
              "0  01-01-2013      1  Toyota     13\n",
              "1  02-01-2013      1  Toyota     11\n",
              "2  03-01-2013      1  Toyota     14\n",
              "3  04-01-2013      1  Toyota     13\n",
              "4  05-01-2013      1  Toyota     10"
            ],
            "text/html": [
              "\n",
              "  <div id=\"df-d2d190f6-0e35-4c28-9201-4044f0d516b2\">\n",
              "    <div class=\"colab-df-container\">\n",
              "      <div>\n",
              "<style scoped>\n",
              "    .dataframe tbody tr th:only-of-type {\n",
              "        vertical-align: middle;\n",
              "    }\n",
              "\n",
              "    .dataframe tbody tr th {\n",
              "        vertical-align: top;\n",
              "    }\n",
              "\n",
              "    .dataframe thead th {\n",
              "        text-align: right;\n",
              "    }\n",
              "</style>\n",
              "<table border=\"1\" class=\"dataframe\">\n",
              "  <thead>\n",
              "    <tr style=\"text-align: right;\">\n",
              "      <th></th>\n",
              "      <th>date</th>\n",
              "      <th>store</th>\n",
              "      <th>Cars</th>\n",
              "      <th>sales</th>\n",
              "    </tr>\n",
              "  </thead>\n",
              "  <tbody>\n",
              "    <tr>\n",
              "      <th>0</th>\n",
              "      <td>01-01-2013</td>\n",
              "      <td>1</td>\n",
              "      <td>Toyota</td>\n",
              "      <td>13</td>\n",
              "    </tr>\n",
              "    <tr>\n",
              "      <th>1</th>\n",
              "      <td>02-01-2013</td>\n",
              "      <td>1</td>\n",
              "      <td>Toyota</td>\n",
              "      <td>11</td>\n",
              "    </tr>\n",
              "    <tr>\n",
              "      <th>2</th>\n",
              "      <td>03-01-2013</td>\n",
              "      <td>1</td>\n",
              "      <td>Toyota</td>\n",
              "      <td>14</td>\n",
              "    </tr>\n",
              "    <tr>\n",
              "      <th>3</th>\n",
              "      <td>04-01-2013</td>\n",
              "      <td>1</td>\n",
              "      <td>Toyota</td>\n",
              "      <td>13</td>\n",
              "    </tr>\n",
              "    <tr>\n",
              "      <th>4</th>\n",
              "      <td>05-01-2013</td>\n",
              "      <td>1</td>\n",
              "      <td>Toyota</td>\n",
              "      <td>10</td>\n",
              "    </tr>\n",
              "  </tbody>\n",
              "</table>\n",
              "</div>\n",
              "      <button class=\"colab-df-convert\" onclick=\"convertToInteractive('df-d2d190f6-0e35-4c28-9201-4044f0d516b2')\"\n",
              "              title=\"Convert this dataframe to an interactive table.\"\n",
              "              style=\"display:none;\">\n",
              "        \n",
              "  <svg xmlns=\"http://www.w3.org/2000/svg\" height=\"24px\"viewBox=\"0 0 24 24\"\n",
              "       width=\"24px\">\n",
              "    <path d=\"M0 0h24v24H0V0z\" fill=\"none\"/>\n",
              "    <path d=\"M18.56 5.44l.94 2.06.94-2.06 2.06-.94-2.06-.94-.94-2.06-.94 2.06-2.06.94zm-11 1L8.5 8.5l.94-2.06 2.06-.94-2.06-.94L8.5 2.5l-.94 2.06-2.06.94zm10 10l.94 2.06.94-2.06 2.06-.94-2.06-.94-.94-2.06-.94 2.06-2.06.94z\"/><path d=\"M17.41 7.96l-1.37-1.37c-.4-.4-.92-.59-1.43-.59-.52 0-1.04.2-1.43.59L10.3 9.45l-7.72 7.72c-.78.78-.78 2.05 0 2.83L4 21.41c.39.39.9.59 1.41.59.51 0 1.02-.2 1.41-.59l7.78-7.78 2.81-2.81c.8-.78.8-2.07 0-2.86zM5.41 20L4 18.59l7.72-7.72 1.47 1.35L5.41 20z\"/>\n",
              "  </svg>\n",
              "      </button>\n",
              "      \n",
              "  <style>\n",
              "    .colab-df-container {\n",
              "      display:flex;\n",
              "      flex-wrap:wrap;\n",
              "      gap: 12px;\n",
              "    }\n",
              "\n",
              "    .colab-df-convert {\n",
              "      background-color: #E8F0FE;\n",
              "      border: none;\n",
              "      border-radius: 50%;\n",
              "      cursor: pointer;\n",
              "      display: none;\n",
              "      fill: #1967D2;\n",
              "      height: 32px;\n",
              "      padding: 0 0 0 0;\n",
              "      width: 32px;\n",
              "    }\n",
              "\n",
              "    .colab-df-convert:hover {\n",
              "      background-color: #E2EBFA;\n",
              "      box-shadow: 0px 1px 2px rgba(60, 64, 67, 0.3), 0px 1px 3px 1px rgba(60, 64, 67, 0.15);\n",
              "      fill: #174EA6;\n",
              "    }\n",
              "\n",
              "    [theme=dark] .colab-df-convert {\n",
              "      background-color: #3B4455;\n",
              "      fill: #D2E3FC;\n",
              "    }\n",
              "\n",
              "    [theme=dark] .colab-df-convert:hover {\n",
              "      background-color: #434B5C;\n",
              "      box-shadow: 0px 1px 3px 1px rgba(0, 0, 0, 0.15);\n",
              "      filter: drop-shadow(0px 1px 2px rgba(0, 0, 0, 0.3));\n",
              "      fill: #FFFFFF;\n",
              "    }\n",
              "  </style>\n",
              "\n",
              "      <script>\n",
              "        const buttonEl =\n",
              "          document.querySelector('#df-d2d190f6-0e35-4c28-9201-4044f0d516b2 button.colab-df-convert');\n",
              "        buttonEl.style.display =\n",
              "          google.colab.kernel.accessAllowed ? 'block' : 'none';\n",
              "\n",
              "        async function convertToInteractive(key) {\n",
              "          const element = document.querySelector('#df-d2d190f6-0e35-4c28-9201-4044f0d516b2');\n",
              "          const dataTable =\n",
              "            await google.colab.kernel.invokeFunction('convertToInteractive',\n",
              "                                                     [key], {});\n",
              "          if (!dataTable) return;\n",
              "\n",
              "          const docLinkHtml = 'Like what you see? Visit the ' +\n",
              "            '<a target=\"_blank\" href=https://colab.research.google.com/notebooks/data_table.ipynb>data table notebook</a>'\n",
              "            + ' to learn more about interactive tables.';\n",
              "          element.innerHTML = '';\n",
              "          dataTable['output_type'] = 'display_data';\n",
              "          await google.colab.output.renderOutput(dataTable, element);\n",
              "          const docLink = document.createElement('div');\n",
              "          docLink.innerHTML = docLinkHtml;\n",
              "          element.appendChild(docLink);\n",
              "        }\n",
              "      </script>\n",
              "    </div>\n",
              "  </div>\n",
              "  "
            ]
          },
          "metadata": {},
          "execution_count": 2
        }
      ]
    },
    {
      "cell_type": "code",
      "source": [
        "# Shape of dataset\n",
        "df.shape"
      ],
      "metadata": {
        "colab": {
          "base_uri": "https://localhost:8080/"
        },
        "id": "_MGGcDH1gzoY",
        "outputId": "fd4a5795-2a8f-454c-898c-4fb8c0b34487"
      },
      "execution_count": 3,
      "outputs": [
        {
          "output_type": "execute_result",
          "data": {
            "text/plain": [
              "(913000, 4)"
            ]
          },
          "metadata": {},
          "execution_count": 3
        }
      ]
    },
    {
      "cell_type": "code",
      "source": [
        "# Datatypes of data\n",
        "df.dtypes"
      ],
      "metadata": {
        "colab": {
          "base_uri": "https://localhost:8080/"
        },
        "id": "7yw807_Ag6hV",
        "outputId": "0b14e01a-f21a-447b-dee9-8bb06af132cc"
      },
      "execution_count": 4,
      "outputs": [
        {
          "output_type": "execute_result",
          "data": {
            "text/plain": [
              "date     object\n",
              "store     int64\n",
              "Cars     object\n",
              "sales     int64\n",
              "dtype: object"
            ]
          },
          "metadata": {},
          "execution_count": 4
        }
      ]
    },
    {
      "cell_type": "code",
      "source": [
        "# Converting object datatype of date column into date datatype\n",
        "df['date']=pd.to_datetime(df['date'])"
      ],
      "metadata": {
        "id": "ABTpHuLyhAEC"
      },
      "execution_count": 5,
      "outputs": []
    },
    {
      "cell_type": "code",
      "source": [
        "# Datatypes of data\n",
        "df.dtypes"
      ],
      "metadata": {
        "colab": {
          "base_uri": "https://localhost:8080/"
        },
        "id": "Om0MeZbdhIOQ",
        "outputId": "8d57012f-bd72-4504-8380-a26183c41c24"
      },
      "execution_count": 6,
      "outputs": [
        {
          "output_type": "execute_result",
          "data": {
            "text/plain": [
              "date     datetime64[ns]\n",
              "store             int64\n",
              "Cars             object\n",
              "sales             int64\n",
              "dtype: object"
            ]
          },
          "metadata": {},
          "execution_count": 6
        }
      ]
    },
    {
      "cell_type": "code",
      "source": [
        "# Check whether any null values present or not\n",
        "df.isna().sum()"
      ],
      "metadata": {
        "colab": {
          "base_uri": "https://localhost:8080/"
        },
        "id": "GzXCzl4xhN93",
        "outputId": "8ad6144e-af27-4744-c6eb-6aba0a278b15"
      },
      "execution_count": 7,
      "outputs": [
        {
          "output_type": "execute_result",
          "data": {
            "text/plain": [
              "date     0\n",
              "store    0\n",
              "Cars     0\n",
              "sales    0\n",
              "dtype: int64"
            ]
          },
          "metadata": {},
          "execution_count": 7
        }
      ]
    },
    {
      "cell_type": "code",
      "source": [
        "# Set date as index\n",
        "df.set_index('date',inplace=True)"
      ],
      "metadata": {
        "id": "_99p3o6miNsZ"
      },
      "execution_count": 8,
      "outputs": []
    },
    {
      "cell_type": "code",
      "source": [
        "df.head()"
      ],
      "metadata": {
        "colab": {
          "base_uri": "https://localhost:8080/",
          "height": 237
        },
        "id": "jJ1aTdqljVD5",
        "outputId": "ff0b10d4-d003-46a0-b872-cce9066e8559"
      },
      "execution_count": 9,
      "outputs": [
        {
          "output_type": "execute_result",
          "data": {
            "text/plain": [
              "            store    Cars  sales\n",
              "date                            \n",
              "2013-01-01      1  Toyota     13\n",
              "2013-02-01      1  Toyota     11\n",
              "2013-03-01      1  Toyota     14\n",
              "2013-04-01      1  Toyota     13\n",
              "2013-05-01      1  Toyota     10"
            ],
            "text/html": [
              "\n",
              "  <div id=\"df-9fab85e7-b28f-4fd5-8980-06774979cad1\">\n",
              "    <div class=\"colab-df-container\">\n",
              "      <div>\n",
              "<style scoped>\n",
              "    .dataframe tbody tr th:only-of-type {\n",
              "        vertical-align: middle;\n",
              "    }\n",
              "\n",
              "    .dataframe tbody tr th {\n",
              "        vertical-align: top;\n",
              "    }\n",
              "\n",
              "    .dataframe thead th {\n",
              "        text-align: right;\n",
              "    }\n",
              "</style>\n",
              "<table border=\"1\" class=\"dataframe\">\n",
              "  <thead>\n",
              "    <tr style=\"text-align: right;\">\n",
              "      <th></th>\n",
              "      <th>store</th>\n",
              "      <th>Cars</th>\n",
              "      <th>sales</th>\n",
              "    </tr>\n",
              "    <tr>\n",
              "      <th>date</th>\n",
              "      <th></th>\n",
              "      <th></th>\n",
              "      <th></th>\n",
              "    </tr>\n",
              "  </thead>\n",
              "  <tbody>\n",
              "    <tr>\n",
              "      <th>2013-01-01</th>\n",
              "      <td>1</td>\n",
              "      <td>Toyota</td>\n",
              "      <td>13</td>\n",
              "    </tr>\n",
              "    <tr>\n",
              "      <th>2013-02-01</th>\n",
              "      <td>1</td>\n",
              "      <td>Toyota</td>\n",
              "      <td>11</td>\n",
              "    </tr>\n",
              "    <tr>\n",
              "      <th>2013-03-01</th>\n",
              "      <td>1</td>\n",
              "      <td>Toyota</td>\n",
              "      <td>14</td>\n",
              "    </tr>\n",
              "    <tr>\n",
              "      <th>2013-04-01</th>\n",
              "      <td>1</td>\n",
              "      <td>Toyota</td>\n",
              "      <td>13</td>\n",
              "    </tr>\n",
              "    <tr>\n",
              "      <th>2013-05-01</th>\n",
              "      <td>1</td>\n",
              "      <td>Toyota</td>\n",
              "      <td>10</td>\n",
              "    </tr>\n",
              "  </tbody>\n",
              "</table>\n",
              "</div>\n",
              "      <button class=\"colab-df-convert\" onclick=\"convertToInteractive('df-9fab85e7-b28f-4fd5-8980-06774979cad1')\"\n",
              "              title=\"Convert this dataframe to an interactive table.\"\n",
              "              style=\"display:none;\">\n",
              "        \n",
              "  <svg xmlns=\"http://www.w3.org/2000/svg\" height=\"24px\"viewBox=\"0 0 24 24\"\n",
              "       width=\"24px\">\n",
              "    <path d=\"M0 0h24v24H0V0z\" fill=\"none\"/>\n",
              "    <path d=\"M18.56 5.44l.94 2.06.94-2.06 2.06-.94-2.06-.94-.94-2.06-.94 2.06-2.06.94zm-11 1L8.5 8.5l.94-2.06 2.06-.94-2.06-.94L8.5 2.5l-.94 2.06-2.06.94zm10 10l.94 2.06.94-2.06 2.06-.94-2.06-.94-.94-2.06-.94 2.06-2.06.94z\"/><path d=\"M17.41 7.96l-1.37-1.37c-.4-.4-.92-.59-1.43-.59-.52 0-1.04.2-1.43.59L10.3 9.45l-7.72 7.72c-.78.78-.78 2.05 0 2.83L4 21.41c.39.39.9.59 1.41.59.51 0 1.02-.2 1.41-.59l7.78-7.78 2.81-2.81c.8-.78.8-2.07 0-2.86zM5.41 20L4 18.59l7.72-7.72 1.47 1.35L5.41 20z\"/>\n",
              "  </svg>\n",
              "      </button>\n",
              "      \n",
              "  <style>\n",
              "    .colab-df-container {\n",
              "      display:flex;\n",
              "      flex-wrap:wrap;\n",
              "      gap: 12px;\n",
              "    }\n",
              "\n",
              "    .colab-df-convert {\n",
              "      background-color: #E8F0FE;\n",
              "      border: none;\n",
              "      border-radius: 50%;\n",
              "      cursor: pointer;\n",
              "      display: none;\n",
              "      fill: #1967D2;\n",
              "      height: 32px;\n",
              "      padding: 0 0 0 0;\n",
              "      width: 32px;\n",
              "    }\n",
              "\n",
              "    .colab-df-convert:hover {\n",
              "      background-color: #E2EBFA;\n",
              "      box-shadow: 0px 1px 2px rgba(60, 64, 67, 0.3), 0px 1px 3px 1px rgba(60, 64, 67, 0.15);\n",
              "      fill: #174EA6;\n",
              "    }\n",
              "\n",
              "    [theme=dark] .colab-df-convert {\n",
              "      background-color: #3B4455;\n",
              "      fill: #D2E3FC;\n",
              "    }\n",
              "\n",
              "    [theme=dark] .colab-df-convert:hover {\n",
              "      background-color: #434B5C;\n",
              "      box-shadow: 0px 1px 3px 1px rgba(0, 0, 0, 0.15);\n",
              "      filter: drop-shadow(0px 1px 2px rgba(0, 0, 0, 0.3));\n",
              "      fill: #FFFFFF;\n",
              "    }\n",
              "  </style>\n",
              "\n",
              "      <script>\n",
              "        const buttonEl =\n",
              "          document.querySelector('#df-9fab85e7-b28f-4fd5-8980-06774979cad1 button.colab-df-convert');\n",
              "        buttonEl.style.display =\n",
              "          google.colab.kernel.accessAllowed ? 'block' : 'none';\n",
              "\n",
              "        async function convertToInteractive(key) {\n",
              "          const element = document.querySelector('#df-9fab85e7-b28f-4fd5-8980-06774979cad1');\n",
              "          const dataTable =\n",
              "            await google.colab.kernel.invokeFunction('convertToInteractive',\n",
              "                                                     [key], {});\n",
              "          if (!dataTable) return;\n",
              "\n",
              "          const docLinkHtml = 'Like what you see? Visit the ' +\n",
              "            '<a target=\"_blank\" href=https://colab.research.google.com/notebooks/data_table.ipynb>data table notebook</a>'\n",
              "            + ' to learn more about interactive tables.';\n",
              "          element.innerHTML = '';\n",
              "          dataTable['output_type'] = 'display_data';\n",
              "          await google.colab.output.renderOutput(dataTable, element);\n",
              "          const docLink = document.createElement('div');\n",
              "          docLink.innerHTML = docLinkHtml;\n",
              "          element.appendChild(docLink);\n",
              "        }\n",
              "      </script>\n",
              "    </div>\n",
              "  </div>\n",
              "  "
            ]
          },
          "metadata": {},
          "execution_count": 9
        }
      ]
    },
    {
      "cell_type": "markdown",
      "source": [
        "## 2. Visualization of the Data"
      ],
      "metadata": {
        "id": "W9sD9Kuchpkc"
      }
    },
    {
      "cell_type": "code",
      "source": [
        "# Plotting graph yearwise\n",
        "plt.figure(figsize=(12, 10))\n",
        "df.plot()"
      ],
      "metadata": {
        "colab": {
          "base_uri": "https://localhost:8080/",
          "height": 304
        },
        "id": "RTb_L4jChh5S",
        "outputId": "95170f90-6408-48d0-d597-9446e44b5295"
      },
      "execution_count": 10,
      "outputs": [
        {
          "output_type": "execute_result",
          "data": {
            "text/plain": [
              "<matplotlib.axes._subplots.AxesSubplot at 0x7f1c34105910>"
            ]
          },
          "metadata": {},
          "execution_count": 10
        },
        {
          "output_type": "display_data",
          "data": {
            "text/plain": [
              "<Figure size 864x720 with 0 Axes>"
            ]
          },
          "metadata": {}
        },
        {
          "output_type": "display_data",
          "data": {
            "text/plain": [
              "<Figure size 432x288 with 1 Axes>"
            ],
            "image/png": "[encoded data removed]"
          },
          "metadata": {
            "needs_background": "light"
          }
        }
      ]
    },
    {
      "cell_type": "markdown",
      "source": [
        "From graph we can say that the sales of cars in year 2017 is higher compared to other years"
      ],
      "metadata": {
        "id": "8oq5WrdStI_F"
      }
    },
    {
      "cell_type": "code",
      "source": [
        "# Visualization using Boxplot\n",
        "# Splitting the plot into (1,2) subplots\n",
        "# and initializing them using fig and ax\n",
        "# variables\n",
        "fig, ax = plt.subplots(nrows=1, ncols=2,\n",
        "                       figsize=(15, 6))\n",
        "df['Year'] = df.index.year\n",
        "df['Month'] = df.index.month\n",
        "# Using Seaborn Library for Box Plot\n",
        "sns.boxplot(df['Year'],\n",
        "            df[\"sales\"], ax=ax[0])\n",
        " \n",
        "# Defining the title and axes names\n",
        "ax[0].set_title('Year-wise Box Plot for Sales',\n",
        "                fontsize=20, loc='center')\n",
        "ax[0].set_xlabel('Year')\n",
        "ax[0].set_ylabel('sales')\n",
        " \n",
        "# Using Seaborn Library for Box Plot\n",
        "sns.boxplot(df['Month'],\n",
        "            df[\"sales\"], ax=ax[1])\n",
        " \n",
        "# Defining the title and axes names\n",
        "ax[1].set_title('Month-wise Box Plot for sales',\n",
        "                fontsize=20, loc='center')\n",
        "ax[1].set_xlabel('Month')\n",
        "ax[1].set_ylabel('sales')\n",
        " \n",
        "# rotate the ticks and right align them\n",
        "fig.autofmt_xdate()"
      ],
      "metadata": {
        "colab": {
          "base_uri": "https://localhost:8080/",
          "height": 477
        },
        "id": "Wq95uKiUhwW2",
        "outputId": "6570f821-802d-4087-aca8-bb1e48113514"
      },
      "execution_count": 11,
      "outputs": [
        {
          "output_type": "stream",
          "name": "stderr",
          "text": [
            "/usr/local/lib/python3.7/dist-packages/seaborn/_decorators.py:43: FutureWarning: Pass the following variables as keyword args: x, y. From version 0.12, the only valid positional argument will be `data`, and passing other arguments without an explicit keyword will result in an error or misinterpretation.\n",
            "  FutureWarning\n",
            "/usr/local/lib/python3.7/dist-packages/seaborn/_decorators.py:43: FutureWarning: Pass the following variables as keyword args: x, y. From version 0.12, the only valid positional argument will be `data`, and passing other arguments without an explicit keyword will result in an error or misinterpretation.\n",
            "  FutureWarning\n"
          ]
        },
        {
          "output_type": "display_data",
          "data": {
            "text/plain": [
              "<Figure size 1080x432 with 2 Axes>"
            ],
            "image/png": "[encoded data removed]"
          },
          "metadata": {
            "needs_background": "light"
          }
        }
      ]
    },
    {
      "cell_type": "markdown",
      "source": [
        "Here, through these plots, we will be able to obtain an intuition of the ‘sales’ value ranges of each year (Year-wise Box Plot) as well as each month (Month-wise Box Plot). Also, through the Month-wise Box Plot, we can observe that the value range is slightly higher in June and July, compared to other months."
      ],
      "metadata": {
        "id": "5xOk98Y6p23V"
      }
    },
    {
      "cell_type": "code",
      "source": [
        "# Resampling the time series data based on monthly 'M' frequency\n",
        "df_month = df.resample(\"M\").mean()\n",
        "  \n",
        "# using subplot\n",
        "fig, ax = plt.subplots(figsize=(10, 6))\n",
        "  \n",
        "# plotting bar graph\n",
        "ax.bar(df_month['2017':].index, \n",
        "       df_month.loc['2017':, \"sales\"], \n",
        "       width=25, align='center')"
      ],
      "metadata": {
        "colab": {
          "base_uri": "https://localhost:8080/",
          "height": 391
        },
        "id": "4Ks75DBZkszb",
        "outputId": "c6ca4779-fffb-471f-ffbb-50e44a45b0e8"
      },
      "execution_count": 12,
      "outputs": [
        {
          "output_type": "execute_result",
          "data": {
            "text/plain": [
              "<BarContainer object of 12 artists>"
            ]
          },
          "metadata": {},
          "execution_count": 12
        },
        {
          "output_type": "display_data",
          "data": {
            "text/plain": [
              "<Figure size 720x432 with 1 Axes>"
            ],
            "image/png": "[encoded data removed]"
          },
          "metadata": {
            "needs_background": "light"
          }
        }
      ]
    },
    {
      "cell_type": "markdown",
      "source": [
        "August month has highest sales in year 2017"
      ],
      "metadata": {
        "id": "itMQ2kbMtUjJ"
      }
    },
    {
      "cell_type": "markdown",
      "source": [
        "### Univariate Analysis"
      ],
      "metadata": {
        "id": "rjNji9T0ucm8"
      }
    },
    {
      "cell_type": "code",
      "source": [
        "# To get to know total cars and their values\n",
        "df['Cars'].value_counts().sort_values(ascending = False)"
      ],
      "metadata": {
        "colab": {
          "base_uri": "https://localhost:8080/"
        },
        "id": "ealqATB3pACI",
        "outputId": "cab89dcd-09de-48c5-bb63-7e8f03bfbd97"
      },
      "execution_count": 13,
      "outputs": [
        {
          "output_type": "execute_result",
          "data": {
            "text/plain": [
              "Toyota           18260\n",
              "Acura            18260\n",
              "Ferrari          18260\n",
              "Tesla            18260\n",
              "Seat             18260\n",
              "Saturn           18260\n",
              "Ram              18260\n",
              "Peugeot          18260\n",
              "Opel             18260\n",
              "Subaru           18260\n",
              "Audi             18260\n",
              "Abarth           18260\n",
              "Alfa Romeo       18260\n",
              "Land Rover       18260\n",
              "Aston Martin     18260\n",
              "Bentley          18260\n",
              "BMW              18260\n",
              "Buick            18260\n",
              "Cadillac         18260\n",
              "Chevrolet        18260\n",
              "Chrysler         18260\n",
              "Citroen          18260\n",
              "Dacia            18260\n",
              "Dodge            18260\n",
              "Fiat             18260\n",
              "Ford             18260\n",
              "GMC              18260\n",
              "Suzuki           18260\n",
              "Honda            18260\n",
              "Hummer           18260\n",
              "Hyundai          18260\n",
              "Infiniti         18260\n",
              "Isuzu            18260\n",
              "Jaguar           18260\n",
              "Jeep             18260\n",
              "Kia              18260\n",
              "Lamborghini      18260\n",
              "Lancia           18260\n",
              "Lexus            18260\n",
              "Volvo            18260\n",
              "Lincoln          18260\n",
              "Lotus            18260\n",
              "Mazda            18260\n",
              "Mercedes-Benz    18260\n",
              "Mini             18260\n",
              "Nissan           18260\n",
              "Porsche          18260\n",
              "Renault          18260\n",
              "Skoda            18260\n",
              "Volkswagen       18260\n",
              "Name: Cars, dtype: int64"
            ]
          },
          "metadata": {},
          "execution_count": 13
        }
      ]
    },
    {
      "cell_type": "code",
      "source": [
        "# To get to know total sales of each car from data\n",
        "df.groupby('Cars').sum().sort_values('sales', ascending = False)"
      ],
      "metadata": {
        "colab": {
          "base_uri": "https://localhost:8080/",
          "height": 1000
        },
        "id": "h3YUfu0Luk2I",
        "outputId": "0e99232d-ed8b-4c5c-bf7d-93e20c04f585"
      },
      "execution_count": 14,
      "outputs": [
        {
          "output_type": "execute_result",
          "data": {
            "text/plain": [
              "                store    sales      Year   Month\n",
              "Cars                                            \n",
              "Bentley        100430  1607442  36793910  119120\n",
              "Honda          100430  1604713  36793910  119120\n",
              "Alfa Romeo     100430  1539621  36793910  119120\n",
              "Cadillac       100430  1538876  36793910  119120\n",
              "Fiat           100430  1473334  36793910  119120\n",
              "Nissan         100430  1471467  36793910  119120\n",
              "Land Rover     100430  1470330  36793910  119120\n",
              "Dacia          100430  1469971  36793910  119120\n",
              "Lamborghini    100430  1406548  36793910  119120\n",
              "Opel           100430  1405108  36793910  119120\n",
              "Audi           100430  1337133  36793910  119120\n",
              "Abarth         100430  1271925  36793910  119120\n",
              "Acura          100430  1271534  36793910  119120\n",
              "Hummer         100430  1271240  36793910  119120\n",
              "Jaguar         100430  1270183  36793910  119120\n",
              "Ferrari        100430  1205975  36793910  119120\n",
              "Volkswagen     100430  1203009  36793910  119120\n",
              "Kia            100430  1201541  36793910  119120\n",
              "Aston Martin   100430  1071531  36793910  119120\n",
              "Infiniti       100430  1070845  36793910  119120\n",
              "Porsche        100430  1070764  36793910  119120\n",
              "Volvo          100430  1069564  36793910  119120\n",
              "Peugeot        100430  1068777  36793910  119120\n",
              "Ram            100430  1068281  36793910  119120\n",
              "Subaru         100430   938379  36793910  119120\n",
              "Skoda          100430   937703  36793910  119120\n",
              "Mercedes-Benz  100430   936635  36793910  119120\n",
              "Ford           100430   869981  36793910  119120\n",
              "Chrysler       100430   867641  36793910  119120\n",
              "Isuzu          100430   803107  36793910  119120\n",
              "Lexus          100430   801311  36793910  119120\n",
              "Chevrolet      100430   736892  36793910  119120\n",
              "Hyundai        100430   736554  36793910  119120\n",
              "Citroen        100430   736190  36793910  119120\n",
              "Mazda          100430   669925  36793910  119120\n",
              "Tesla          100430   669087  36793910  119120\n",
              "Buick          100430   602486  36793910  119120\n",
              "Mini           100430   536811  36793910  119120\n",
              "Suzuki         100430   535663  36793910  119120\n",
              "Dodge          100430   534979  36793910  119120\n",
              "Lancia         100430   534258  36793910  119120\n",
              "Lincoln        100430   534094  36793910  119120\n",
              "Jeep           100430   469935  36793910  119120\n",
              "BMW            100430   468480  36793910  119120\n",
              "GMC            100430   402628  36793910  119120\n",
              "Seat           100430   401907  36793910  119120\n",
              "Renault        100430   401781  36793910  119120\n",
              "Lotus          100430   401759  36793910  119120\n",
              "Toyota         100430   401384  36793910  119120\n",
              "Saturn         100430   335230  36793910  119120"
            ],
            "text/html": [
              "\n",
              "  <div id=\"df-8824c468-9302-4192-90b6-05f4d6c9b51d\">\n",
              "    <div class=\"colab-df-container\">\n",
              "      <div>\n",
              "<style scoped>\n",
              "    .dataframe tbody tr th:only-of-type {\n",
              "        vertical-align: middle;\n",
              "    }\n",
              "\n",
              "    .dataframe tbody tr th {\n",
              "        vertical-align: top;\n",
              "    }\n",
              "\n",
              "    .dataframe thead th {\n",
              "        text-align: right;\n",
              "    }\n",
              "</style>\n",
              "<table border=\"1\" class=\"dataframe\">\n",
              "  <thead>\n",
              "    <tr style=\"text-align: right;\">\n",
              "      <th></th>\n",
              "      <th>store</th>\n",
              "      <th>sales</th>\n",
              "      <th>Year</th>\n",
              "      <th>Month</th>\n",
              "    </tr>\n",
              "    <tr>\n",
              "      <th>Cars</th>\n",
              "      <th></th>\n",
              "      <th></th>\n",
              "      <th></th>\n",
              "      <th></th>\n",
              "    </tr>\n",
              "  </thead>\n",
              "  <tbody>\n",
              "    <tr>\n",
              "      <th>Bentley</th>\n",
              "      <td>100430</td>\n",
              "      <td>1607442</td>\n",
              "      <td>36793910</td>\n",
              "      <td>119120</td>\n",
              "    </tr>\n",
              "    <tr>\n",
              "      <th>Honda</th>\n",
              "      <td>100430</td>\n",
              "      <td>1604713</td>\n",
              "      <td>36793910</td>\n",
              "      <td>119120</td>\n",
              "    </tr>\n",
              "    <tr>\n",
              "      <th>Alfa Romeo</th>\n",
              "      <td>100430</td>\n",
              "      <td>1539621</td>\n",
              "      <td>36793910</td>\n",
              "      <td>119120</td>\n",
              "    </tr>\n",
              "    <tr>\n",
              "      <th>Cadillac</th>\n",
              "      <td>100430</td>\n",
              "      <td>1538876</td>\n",
              "      <td>36793910</td>\n",
              "      <td>119120</td>\n",
              "    </tr>\n",
              "    <tr>\n",
              "      <th>Fiat</th>\n",
              "      <td>100430</td>\n",
              "      <td>1473334</td>\n",
              "      <td>36793910</td>\n",
              "      <td>119120</td>\n",
              "    </tr>\n",
              "    <tr>\n",
              "      <th>Nissan</th>\n",
              "      <td>100430</td>\n",
              "      <td>1471467</td>\n",
              "      <td>36793910</td>\n",
              "      <td>119120</td>\n",
              "    </tr>\n",
              "    <tr>\n",
              "      <th>Land Rover</th>\n",
              "      <td>100430</td>\n",
              "      <td>1470330</td>\n",
              "      <td>36793910</td>\n",
              "      <td>119120</td>\n",
              "    </tr>\n",
              "    <tr>\n",
              "      <th>Dacia</th>\n",
              "      <td>100430</td>\n",
              "      <td>1469971</td>\n",
              "      <td>36793910</td>\n",
              "      <td>119120</td>\n",
              "    </tr>\n",
              "    <tr>\n",
              "      <th>Lamborghini</th>\n",
              "      <td>100430</td>\n",
              "      <td>1406548</td>\n",
              "      <td>36793910</td>\n",
              "      <td>119120</td>\n",
              "    </tr>\n",
              "    <tr>\n",
              "      <th>Opel</th>\n",
              "      <td>100430</td>\n",
              "      <td>1405108</td>\n",
              "      <td>36793910</td>\n",
              "      <td>119120</td>\n",
              "    </tr>\n",
              "    <tr>\n",
              "      <th>Audi</th>\n",
              "      <td>100430</td>\n",
              "      <td>1337133</td>\n",
              "      <td>36793910</td>\n",
              "      <td>119120</td>\n",
              "    </tr>\n",
              "    <tr>\n",
              "      <th>Abarth</th>\n",
              "      <td>100430</td>\n",
              "      <td>1271925</td>\n",
              "      <td>36793910</td>\n",
              "      <td>119120</td>\n",
              "    </tr>\n",
              "    <tr>\n",
              "      <th>Acura</th>\n",
              "      <td>100430</td>\n",
              "      <td>1271534</td>\n",
              "      <td>36793910</td>\n",
              "      <td>119120</td>\n",
              "    </tr>\n",
              "    <tr>\n",
              "      <th>Hummer</th>\n",
              "      <td>100430</td>\n",
              "      <td>1271240</td>\n",
              "      <td>36793910</td>\n",
              "      <td>119120</td>\n",
              "    </tr>\n",
              "    <tr>\n",
              "      <th>Jaguar</th>\n",
              "      <td>100430</td>\n",
              "      <td>1270183</td>\n",
              "      <td>36793910</td>\n",
              "      <td>119120</td>\n",
              "    </tr>\n",
              "    <tr>\n",
              "      <th>Ferrari</th>\n",
              "      <td>100430</td>\n",
              "      <td>1205975</td>\n",
              "      <td>36793910</td>\n",
              "      <td>119120</td>\n",
              "    </tr>\n",
              "    <tr>\n",
              "      <th>Volkswagen</th>\n",
              "      <td>100430</td>\n",
              "      <td>1203009</td>\n",
              "      <td>36793910</td>\n",
              "      <td>119120</td>\n",
              "    </tr>\n",
              "    <tr>\n",
              "      <th>Kia</th>\n",
              "      <td>100430</td>\n",
              "      <td>1201541</td>\n",
              "      <td>36793910</td>\n",
              "      <td>119120</td>\n",
              "    </tr>\n",
              "    <tr>\n",
              "      <th>Aston Martin</th>\n",
              "      <td>100430</td>\n",
              "      <td>1071531</td>\n",
              "      <td>36793910</td>\n",
              "      <td>119120</td>\n",
              "    </tr>\n",
              "    <tr>\n",
              "      <th>Infiniti</th>\n",
              "      <td>100430</td>\n",
              "      <td>1070845</td>\n",
              "      <td>36793910</td>\n",
              "      <td>119120</td>\n",
              "    </tr>\n",
              "    <tr>\n",
              "      <th>Porsche</th>\n",
              "      <td>100430</td>\n",
              "      <td>1070764</td>\n",
              "      <td>36793910</td>\n",
              "      <td>119120</td>\n",
              "    </tr>\n",
              "    <tr>\n",
              "      <th>Volvo</th>\n",
              "      <td>100430</td>\n",
              "      <td>1069564</td>\n",
              "      <td>36793910</td>\n",
              "      <td>119120</td>\n",
              "    </tr>\n",
              "    <tr>\n",
              "      <th>Peugeot</th>\n",
              "      <td>100430</td>\n",
              "      <td>1068777</td>\n",
              "      <td>36793910</td>\n",
              "      <td>119120</td>\n",
              "    </tr>\n",
              "    <tr>\n",
              "      <th>Ram</th>\n",
              "      <td>100430</td>\n",
              "      <td>1068281</td>\n",
              "      <td>36793910</td>\n",
              "      <td>119120</td>\n",
              "    </tr>\n",
              "    <tr>\n",
              "      <th>Subaru</th>\n",
              "      <td>100430</td>\n",
              "      <td>938379</td>\n",
              "      <td>36793910</td>\n",
              "      <td>119120</td>\n",
              "    </tr>\n",
              "    <tr>\n",
              "      <th>Skoda</th>\n",
              "      <td>100430</td>\n",
              "      <td>937703</td>\n",
              "      <td>36793910</td>\n",
              "      <td>119120</td>\n",
              "    </tr>\n",
              "    <tr>\n",
              "      <th>Mercedes-Benz</th>\n",
              "      <td>100430</td>\n",
              "      <td>936635</td>\n",
              "      <td>36793910</td>\n",
              "      <td>119120</td>\n",
              "    </tr>\n",
              "    <tr>\n",
              "      <th>Ford</th>\n",
              "      <td>100430</td>\n",
              "      <td>869981</td>\n",
              "      <td>36793910</td>\n",
              "      <td>119120</td>\n",
              "    </tr>\n",
              "    <tr>\n",
              "      <th>Chrysler</th>\n",
              "      <td>100430</td>\n",
              "      <td>867641</td>\n",
              "      <td>36793910</td>\n",
              "      <td>119120</td>\n",
              "    </tr>\n",
              "    <tr>\n",
              "      <th>Isuzu</th>\n",
              "      <td>100430</td>\n",
              "      <td>803107</td>\n",
              "      <td>36793910</td>\n",
              "      <td>119120</td>\n",
              "    </tr>\n",
              "    <tr>\n",
              "      <th>Lexus</th>\n",
              "      <td>100430</td>\n",
              "      <td>801311</td>\n",
              "      <td>36793910</td>\n",
              "      <td>119120</td>\n",
              "    </tr>\n",
              "    <tr>\n",
              "      <th>Chevrolet</th>\n",
              "      <td>100430</td>\n",
              "      <td>736892</td>\n",
              "      <td>36793910</td>\n",
              "      <td>119120</td>\n",
              "    </tr>\n",
              "    <tr>\n",
              "      <th>Hyundai</th>\n",
              "      <td>100430</td>\n",
              "      <td>736554</td>\n",
              "      <td>36793910</td>\n",
              "      <td>119120</td>\n",
              "    </tr>\n",
              "    <tr>\n",
              "      <th>Citroen</th>\n",
              "      <td>100430</td>\n",
              "      <td>736190</td>\n",
              "      <td>36793910</td>\n",
              "      <td>119120</td>\n",
              "    </tr>\n",
              "    <tr>\n",
              "      <th>Mazda</th>\n",
              "      <td>100430</td>\n",
              "      <td>669925</td>\n",
              "      <td>36793910</td>\n",
              "      <td>119120</td>\n",
              "    </tr>\n",
              "    <tr>\n",
              "      <th>Tesla</th>\n",
              "      <td>100430</td>\n",
              "      <td>669087</td>\n",
              "      <td>36793910</td>\n",
              "      <td>119120</td>\n",
              "    </tr>\n",
              "    <tr>\n",
              "      <th>Buick</th>\n",
              "      <td>100430</td>\n",
              "      <td>602486</td>\n",
              "      <td>36793910</td>\n",
              "      <td>119120</td>\n",
              "    </tr>\n",
              "    <tr>\n",
              "      <th>Mini</th>\n",
              "      <td>100430</td>\n",
              "      <td>536811</td>\n",
              "      <td>36793910</td>\n",
              "      <td>119120</td>\n",
              "    </tr>\n",
              "    <tr>\n",
              "      <th>Suzuki</th>\n",
              "      <td>100430</td>\n",
              "      <td>535663</td>\n",
              "      <td>36793910</td>\n",
              "      <td>119120</td>\n",
              "    </tr>\n",
              "    <tr>\n",
              "      <th>Dodge</th>\n",
              "      <td>100430</td>\n",
              "      <td>534979</td>\n",
              "      <td>36793910</td>\n",
              "      <td>119120</td>\n",
              "    </tr>\n",
              "    <tr>\n",
              "      <th>Lancia</th>\n",
              "      <td>100430</td>\n",
              "      <td>534258</td>\n",
              "      <td>36793910</td>\n",
              "      <td>119120</td>\n",
              "    </tr>\n",
              "    <tr>\n",
              "      <th>Lincoln</th>\n",
              "      <td>100430</td>\n",
              "      <td>534094</td>\n",
              "      <td>36793910</td>\n",
              "      <td>119120</td>\n",
              "    </tr>\n",
              "    <tr>\n",
              "      <th>Jeep</th>\n",
              "      <td>100430</td>\n",
              "      <td>469935</td>\n",
              "      <td>36793910</td>\n",
              "      <td>119120</td>\n",
              "    </tr>\n",
              "    <tr>\n",
              "      <th>BMW</th>\n",
              "      <td>100430</td>\n",
              "      <td>468480</td>\n",
              "      <td>36793910</td>\n",
              "      <td>119120</td>\n",
              "    </tr>\n",
              "    <tr>\n",
              "      <th>GMC</th>\n",
              "      <td>100430</td>\n",
              "      <td>402628</td>\n",
              "      <td>36793910</td>\n",
              "      <td>119120</td>\n",
              "    </tr>\n",
              "    <tr>\n",
              "      <th>Seat</th>\n",
              "      <td>100430</td>\n",
              "      <td>401907</td>\n",
              "      <td>36793910</td>\n",
              "      <td>119120</td>\n",
              "    </tr>\n",
              "    <tr>\n",
              "      <th>Renault</th>\n",
              "      <td>100430</td>\n",
              "      <td>401781</td>\n",
              "      <td>36793910</td>\n",
              "      <td>119120</td>\n",
              "    </tr>\n",
              "    <tr>\n",
              "      <th>Lotus</th>\n",
              "      <td>100430</td>\n",
              "      <td>401759</td>\n",
              "      <td>36793910</td>\n",
              "      <td>119120</td>\n",
              "    </tr>\n",
              "    <tr>\n",
              "      <th>Toyota</th>\n",
              "      <td>100430</td>\n",
              "      <td>401384</td>\n",
              "      <td>36793910</td>\n",
              "      <td>119120</td>\n",
              "    </tr>\n",
              "    <tr>\n",
              "      <th>Saturn</th>\n",
              "      <td>100430</td>\n",
              "      <td>335230</td>\n",
              "      <td>36793910</td>\n",
              "      <td>119120</td>\n",
              "    </tr>\n",
              "  </tbody>\n",
              "</table>\n",
              "</div>\n",
              "      <button class=\"colab-df-convert\" onclick=\"convertToInteractive('df-8824c468-9302-4192-90b6-05f4d6c9b51d')\"\n",
              "              title=\"Convert this dataframe to an interactive table.\"\n",
              "              style=\"display:none;\">\n",
              "        \n",
              "  <svg xmlns=\"http://www.w3.org/2000/svg\" height=\"24px\"viewBox=\"0 0 24 24\"\n",
              "       width=\"24px\">\n",
              "    <path d=\"M0 0h24v24H0V0z\" fill=\"none\"/>\n",
              "    <path d=\"M18.56 5.44l.94 2.06.94-2.06 2.06-.94-2.06-.94-.94-2.06-.94 2.06-2.06.94zm-11 1L8.5 8.5l.94-2.06 2.06-.94-2.06-.94L8.5 2.5l-.94 2.06-2.06.94zm10 10l.94 2.06.94-2.06 2.06-.94-2.06-.94-.94-2.06-.94 2.06-2.06.94z\"/><path d=\"M17.41 7.96l-1.37-1.37c-.4-.4-.92-.59-1.43-.59-.52 0-1.04.2-1.43.59L10.3 9.45l-7.72 7.72c-.78.78-.78 2.05 0 2.83L4 21.41c.39.39.9.59 1.41.59.51 0 1.02-.2 1.41-.59l7.78-7.78 2.81-2.81c.8-.78.8-2.07 0-2.86zM5.41 20L4 18.59l7.72-7.72 1.47 1.35L5.41 20z\"/>\n",
              "  </svg>\n",
              "      </button>\n",
              "      \n",
              "  <style>\n",
              "    .colab-df-container {\n",
              "      display:flex;\n",
              "      flex-wrap:wrap;\n",
              "      gap: 12px;\n",
              "    }\n",
              "\n",
              "    .colab-df-convert {\n",
              "      background-color: #E8F0FE;\n",
              "      border: none;\n",
              "      border-radius: 50%;\n",
              "      cursor: pointer;\n",
              "      display: none;\n",
              "      fill: #1967D2;\n",
              "      height: 32px;\n",
              "      padding: 0 0 0 0;\n",
              "      width: 32px;\n",
              "    }\n",
              "\n",
              "    .colab-df-convert:hover {\n",
              "      background-color: #E2EBFA;\n",
              "      box-shadow: 0px 1px 2px rgba(60, 64, 67, 0.3), 0px 1px 3px 1px rgba(60, 64, 67, 0.15);\n",
              "      fill: #174EA6;\n",
              "    }\n",
              "\n",
              "    [theme=dark] .colab-df-convert {\n",
              "      background-color: #3B4455;\n",
              "      fill: #D2E3FC;\n",
              "    }\n",
              "\n",
              "    [theme=dark] .colab-df-convert:hover {\n",
              "      background-color: #434B5C;\n",
              "      box-shadow: 0px 1px 3px 1px rgba(0, 0, 0, 0.15);\n",
              "      filter: drop-shadow(0px 1px 2px rgba(0, 0, 0, 0.3));\n",
              "      fill: #FFFFFF;\n",
              "    }\n",
              "  </style>\n",
              "\n",
              "      <script>\n",
              "        const buttonEl =\n",
              "          document.querySelector('#df-8824c468-9302-4192-90b6-05f4d6c9b51d button.colab-df-convert');\n",
              "        buttonEl.style.display =\n",
              "          google.colab.kernel.accessAllowed ? 'block' : 'none';\n",
              "\n",
              "        async function convertToInteractive(key) {\n",
              "          const element = document.querySelector('#df-8824c468-9302-4192-90b6-05f4d6c9b51d');\n",
              "          const dataTable =\n",
              "            await google.colab.kernel.invokeFunction('convertToInteractive',\n",
              "                                                     [key], {});\n",
              "          if (!dataTable) return;\n",
              "\n",
              "          const docLinkHtml = 'Like what you see? Visit the ' +\n",
              "            '<a target=\"_blank\" href=https://colab.research.google.com/notebooks/data_table.ipynb>data table notebook</a>'\n",
              "            + ' to learn more about interactive tables.';\n",
              "          element.innerHTML = '';\n",
              "          dataTable['output_type'] = 'display_data';\n",
              "          await google.colab.output.renderOutput(dataTable, element);\n",
              "          const docLink = document.createElement('div');\n",
              "          docLink.innerHTML = docLinkHtml;\n",
              "          element.appendChild(docLink);\n",
              "        }\n",
              "      </script>\n",
              "    </div>\n",
              "  </div>\n",
              "  "
            ]
          },
          "metadata": {},
          "execution_count": 14
        }
      ]
    },
    {
      "cell_type": "code",
      "source": [
        "# Resampling dataset and preparing for ARIMA model\n",
        "data=df.resample('M').sum()\n",
        "data.drop(['store'], axis=1,inplace=True)\n",
        "data.head()"
      ],
      "metadata": {
        "colab": {
          "base_uri": "https://localhost:8080/",
          "height": 237
        },
        "id": "pAg3r6Tgveyh",
        "outputId": "87b2aeca-5aaa-48d1-d755-db586c036a49"
      },
      "execution_count": 15,
      "outputs": [
        {
          "output_type": "execute_result",
          "data": {
            "text/plain": [
              "             sales      Year  Month\n",
              "date                               \n",
              "2013-01-31  536883  31201500  15500\n",
              "2013-02-28  521637  28182000  28000\n",
              "2013-03-31  643749  31201500  46500\n",
              "2013-04-30  667252  30195000  60000\n",
              "2013-05-31  720997  31201500  77500"
            ],
            "text/html": [
              "\n",
              "  <div id=\"df-a9fc8cd7-90f3-4beb-bdd5-e35c036fea73\">\n",
              "    <div class=\"colab-df-container\">\n",
              "      <div>\n",
              "<style scoped>\n",
              "    .dataframe tbody tr th:only-of-type {\n",
              "        vertical-align: middle;\n",
              "    }\n",
              "\n",
              "    .dataframe tbody tr th {\n",
              "        vertical-align: top;\n",
              "    }\n",
              "\n",
              "    .dataframe thead th {\n",
              "        text-align: right;\n",
              "    }\n",
              "</style>\n",
              "<table border=\"1\" class=\"dataframe\">\n",
              "  <thead>\n",
              "    <tr style=\"text-align: right;\">\n",
              "      <th></th>\n",
              "      <th>sales</th>\n",
              "      <th>Year</th>\n",
              "      <th>Month</th>\n",
              "    </tr>\n",
              "    <tr>\n",
              "      <th>date</th>\n",
              "      <th></th>\n",
              "      <th></th>\n",
              "      <th></th>\n",
              "    </tr>\n",
              "  </thead>\n",
              "  <tbody>\n",
              "    <tr>\n",
              "      <th>2013-01-31</th>\n",
              "      <td>536883</td>\n",
              "      <td>31201500</td>\n",
              "      <td>15500</td>\n",
              "    </tr>\n",
              "    <tr>\n",
              "      <th>2013-02-28</th>\n",
              "      <td>521637</td>\n",
              "      <td>28182000</td>\n",
              "      <td>28000</td>\n",
              "    </tr>\n",
              "    <tr>\n",
              "      <th>2013-03-31</th>\n",
              "      <td>643749</td>\n",
              "      <td>31201500</td>\n",
              "      <td>46500</td>\n",
              "    </tr>\n",
              "    <tr>\n",
              "      <th>2013-04-30</th>\n",
              "      <td>667252</td>\n",
              "      <td>30195000</td>\n",
              "      <td>60000</td>\n",
              "    </tr>\n",
              "    <tr>\n",
              "      <th>2013-05-31</th>\n",
              "      <td>720997</td>\n",
              "      <td>31201500</td>\n",
              "      <td>77500</td>\n",
              "    </tr>\n",
              "  </tbody>\n",
              "</table>\n",
              "</div>\n",
              "      <button class=\"colab-df-convert\" onclick=\"convertToInteractive('df-a9fc8cd7-90f3-4beb-bdd5-e35c036fea73')\"\n",
              "              title=\"Convert this dataframe to an interactive table.\"\n",
              "              style=\"display:none;\">\n",
              "        \n",
              "  <svg xmlns=\"http://www.w3.org/2000/svg\" height=\"24px\"viewBox=\"0 0 24 24\"\n",
              "       width=\"24px\">\n",
              "    <path d=\"M0 0h24v24H0V0z\" fill=\"none\"/>\n",
              "    <path d=\"M18.56 5.44l.94 2.06.94-2.06 2.06-.94-2.06-.94-.94-2.06-.94 2.06-2.06.94zm-11 1L8.5 8.5l.94-2.06 2.06-.94-2.06-.94L8.5 2.5l-.94 2.06-2.06.94zm10 10l.94 2.06.94-2.06 2.06-.94-2.06-.94-.94-2.06-.94 2.06-2.06.94z\"/><path d=\"M17.41 7.96l-1.37-1.37c-.4-.4-.92-.59-1.43-.59-.52 0-1.04.2-1.43.59L10.3 9.45l-7.72 7.72c-.78.78-.78 2.05 0 2.83L4 21.41c.39.39.9.59 1.41.59.51 0 1.02-.2 1.41-.59l7.78-7.78 2.81-2.81c.8-.78.8-2.07 0-2.86zM5.41 20L4 18.59l7.72-7.72 1.47 1.35L5.41 20z\"/>\n",
              "  </svg>\n",
              "      </button>\n",
              "      \n",
              "  <style>\n",
              "    .colab-df-container {\n",
              "      display:flex;\n",
              "      flex-wrap:wrap;\n",
              "      gap: 12px;\n",
              "    }\n",
              "\n",
              "    .colab-df-convert {\n",
              "      background-color: #E8F0FE;\n",
              "      border: none;\n",
              "      border-radius: 50%;\n",
              "      cursor: pointer;\n",
              "      display: none;\n",
              "      fill: #1967D2;\n",
              "      height: 32px;\n",
              "      padding: 0 0 0 0;\n",
              "      width: 32px;\n",
              "    }\n",
              "\n",
              "    .colab-df-convert:hover {\n",
              "      background-color: #E2EBFA;\n",
              "      box-shadow: 0px 1px 2px rgba(60, 64, 67, 0.3), 0px 1px 3px 1px rgba(60, 64, 67, 0.15);\n",
              "      fill: #174EA6;\n",
              "    }\n",
              "\n",
              "    [theme=dark] .colab-df-convert {\n",
              "      background-color: #3B4455;\n",
              "      fill: #D2E3FC;\n",
              "    }\n",
              "\n",
              "    [theme=dark] .colab-df-convert:hover {\n",
              "      background-color: #434B5C;\n",
              "      box-shadow: 0px 1px 3px 1px rgba(0, 0, 0, 0.15);\n",
              "      filter: drop-shadow(0px 1px 2px rgba(0, 0, 0, 0.3));\n",
              "      fill: #FFFFFF;\n",
              "    }\n",
              "  </style>\n",
              "\n",
              "      <script>\n",
              "        const buttonEl =\n",
              "          document.querySelector('#df-a9fc8cd7-90f3-4beb-bdd5-e35c036fea73 button.colab-df-convert');\n",
              "        buttonEl.style.display =\n",
              "          google.colab.kernel.accessAllowed ? 'block' : 'none';\n",
              "\n",
              "        async function convertToInteractive(key) {\n",
              "          const element = document.querySelector('#df-a9fc8cd7-90f3-4beb-bdd5-e35c036fea73');\n",
              "          const dataTable =\n",
              "            await google.colab.kernel.invokeFunction('convertToInteractive',\n",
              "                                                     [key], {});\n",
              "          if (!dataTable) return;\n",
              "\n",
              "          const docLinkHtml = 'Like what you see? Visit the ' +\n",
              "            '<a target=\"_blank\" href=https://colab.research.google.com/notebooks/data_table.ipynb>data table notebook</a>'\n",
              "            + ' to learn more about interactive tables.';\n",
              "          element.innerHTML = '';\n",
              "          dataTable['output_type'] = 'display_data';\n",
              "          await google.colab.output.renderOutput(dataTable, element);\n",
              "          const docLink = document.createElement('div');\n",
              "          docLink.innerHTML = docLinkHtml;\n",
              "          element.appendChild(docLink);\n",
              "        }\n",
              "      </script>\n",
              "    </div>\n",
              "  </div>\n",
              "  "
            ]
          },
          "metadata": {},
          "execution_count": 15
        }
      ]
    },
    {
      "cell_type": "code",
      "source": [
        "# Dropping unncessary columns from data for better model performance\n",
        "data.drop(['Year','Month'],inplace=True, axis=1)\n",
        "data.head(10)"
      ],
      "metadata": {
        "colab": {
          "base_uri": "https://localhost:8080/",
          "height": 394
        },
        "id": "QkhO7VP2vru7",
        "outputId": "958b8420-98f7-44b5-8c2b-7273527a0add"
      },
      "execution_count": 16,
      "outputs": [
        {
          "output_type": "execute_result",
          "data": {
            "text/plain": [
              "             sales\n",
              "date              \n",
              "2013-01-31  536883\n",
              "2013-02-28  521637\n",
              "2013-03-31  643749\n",
              "2013-04-30  667252\n",
              "2013-05-31  720997\n",
              "2013-06-30  746372\n",
              "2013-07-31  793851\n",
              "2013-08-31  727523\n",
              "2013-09-30  676658\n",
              "2013-10-31  664343"
            ],
            "text/html": [
              "\n",
              "  <div id=\"df-32eccbdf-77e2-4545-a812-ec98f509cf14\">\n",
              "    <div class=\"colab-df-container\">\n",
              "      <div>\n",
              "<style scoped>\n",
              "    .dataframe tbody tr th:only-of-type {\n",
              "        vertical-align: middle;\n",
              "    }\n",
              "\n",
              "    .dataframe tbody tr th {\n",
              "        vertical-align: top;\n",
              "    }\n",
              "\n",
              "    .dataframe thead th {\n",
              "        text-align: right;\n",
              "    }\n",
              "</style>\n",
              "<table border=\"1\" class=\"dataframe\">\n",
              "  <thead>\n",
              "    <tr style=\"text-align: right;\">\n",
              "      <th></th>\n",
              "      <th>sales</th>\n",
              "    </tr>\n",
              "    <tr>\n",
              "      <th>date</th>\n",
              "      <th></th>\n",
              "    </tr>\n",
              "  </thead>\n",
              "  <tbody>\n",
              "    <tr>\n",
              "      <th>2013-01-31</th>\n",
              "      <td>536883</td>\n",
              "    </tr>\n",
              "    <tr>\n",
              "      <th>2013-02-28</th>\n",
              "      <td>521637</td>\n",
              "    </tr>\n",
              "    <tr>\n",
              "      <th>2013-03-31</th>\n",
              "      <td>643749</td>\n",
              "    </tr>\n",
              "    <tr>\n",
              "      <th>2013-04-30</th>\n",
              "      <td>667252</td>\n",
              "    </tr>\n",
              "    <tr>\n",
              "      <th>2013-05-31</th>\n",
              "      <td>720997</td>\n",
              "    </tr>\n",
              "    <tr>\n",
              "      <th>2013-06-30</th>\n",
              "      <td>746372</td>\n",
              "    </tr>\n",
              "    <tr>\n",
              "      <th>2013-07-31</th>\n",
              "      <td>793851</td>\n",
              "    </tr>\n",
              "    <tr>\n",
              "      <th>2013-08-31</th>\n",
              "      <td>727523</td>\n",
              "    </tr>\n",
              "    <tr>\n",
              "      <th>2013-09-30</th>\n",
              "      <td>676658</td>\n",
              "    </tr>\n",
              "    <tr>\n",
              "      <th>2013-10-31</th>\n",
              "      <td>664343</td>\n",
              "    </tr>\n",
              "  </tbody>\n",
              "</table>\n",
              "</div>\n",
              "      <button class=\"colab-df-convert\" onclick=\"convertToInteractive('df-32eccbdf-77e2-4545-a812-ec98f509cf14')\"\n",
              "              title=\"Convert this dataframe to an interactive table.\"\n",
              "              style=\"display:none;\">\n",
              "        \n",
              "  <svg xmlns=\"http://www.w3.org/2000/svg\" height=\"24px\"viewBox=\"0 0 24 24\"\n",
              "       width=\"24px\">\n",
              "    <path d=\"M0 0h24v24H0V0z\" fill=\"none\"/>\n",
              "    <path d=\"M18.56 5.44l.94 2.06.94-2.06 2.06-.94-2.06-.94-.94-2.06-.94 2.06-2.06.94zm-11 1L8.5 8.5l.94-2.06 2.06-.94-2.06-.94L8.5 2.5l-.94 2.06-2.06.94zm10 10l.94 2.06.94-2.06 2.06-.94-2.06-.94-.94-2.06-.94 2.06-2.06.94z\"/><path d=\"M17.41 7.96l-1.37-1.37c-.4-.4-.92-.59-1.43-.59-.52 0-1.04.2-1.43.59L10.3 9.45l-7.72 7.72c-.78.78-.78 2.05 0 2.83L4 21.41c.39.39.9.59 1.41.59.51 0 1.02-.2 1.41-.59l7.78-7.78 2.81-2.81c.8-.78.8-2.07 0-2.86zM5.41 20L4 18.59l7.72-7.72 1.47 1.35L5.41 20z\"/>\n",
              "  </svg>\n",
              "      </button>\n",
              "      \n",
              "  <style>\n",
              "    .colab-df-container {\n",
              "      display:flex;\n",
              "      flex-wrap:wrap;\n",
              "      gap: 12px;\n",
              "    }\n",
              "\n",
              "    .colab-df-convert {\n",
              "      background-color: #E8F0FE;\n",
              "      border: none;\n",
              "      border-radius: 50%;\n",
              "      cursor: pointer;\n",
              "      display: none;\n",
              "      fill: #1967D2;\n",
              "      height: 32px;\n",
              "      padding: 0 0 0 0;\n",
              "      width: 32px;\n",
              "    }\n",
              "\n",
              "    .colab-df-convert:hover {\n",
              "      background-color: #E2EBFA;\n",
              "      box-shadow: 0px 1px 2px rgba(60, 64, 67, 0.3), 0px 1px 3px 1px rgba(60, 64, 67, 0.15);\n",
              "      fill: #174EA6;\n",
              "    }\n",
              "\n",
              "    [theme=dark] .colab-df-convert {\n",
              "      background-color: #3B4455;\n",
              "      fill: #D2E3FC;\n",
              "    }\n",
              "\n",
              "    [theme=dark] .colab-df-convert:hover {\n",
              "      background-color: #434B5C;\n",
              "      box-shadow: 0px 1px 3px 1px rgba(0, 0, 0, 0.15);\n",
              "      filter: drop-shadow(0px 1px 2px rgba(0, 0, 0, 0.3));\n",
              "      fill: #FFFFFF;\n",
              "    }\n",
              "  </style>\n",
              "\n",
              "      <script>\n",
              "        const buttonEl =\n",
              "          document.querySelector('#df-32eccbdf-77e2-4545-a812-ec98f509cf14 button.colab-df-convert');\n",
              "        buttonEl.style.display =\n",
              "          google.colab.kernel.accessAllowed ? 'block' : 'none';\n",
              "\n",
              "        async function convertToInteractive(key) {\n",
              "          const element = document.querySelector('#df-32eccbdf-77e2-4545-a812-ec98f509cf14');\n",
              "          const dataTable =\n",
              "            await google.colab.kernel.invokeFunction('convertToInteractive',\n",
              "                                                     [key], {});\n",
              "          if (!dataTable) return;\n",
              "\n",
              "          const docLinkHtml = 'Like what you see? Visit the ' +\n",
              "            '<a target=\"_blank\" href=https://colab.research.google.com/notebooks/data_table.ipynb>data table notebook</a>'\n",
              "            + ' to learn more about interactive tables.';\n",
              "          element.innerHTML = '';\n",
              "          dataTable['output_type'] = 'display_data';\n",
              "          await google.colab.output.renderOutput(dataTable, element);\n",
              "          const docLink = document.createElement('div');\n",
              "          docLink.innerHTML = docLinkHtml;\n",
              "          element.appendChild(docLink);\n",
              "        }\n",
              "      </script>\n",
              "    </div>\n",
              "  </div>\n",
              "  "
            ]
          },
          "metadata": {},
          "execution_count": 16
        }
      ]
    },
    {
      "cell_type": "code",
      "source": [
        "# Plotting graph of data dataframe for visualization\n",
        "data.plot()"
      ],
      "metadata": {
        "colab": {
          "base_uri": "https://localhost:8080/",
          "height": 307
        },
        "id": "uy_dP0sV1-sw",
        "outputId": "e19477fc-4d78-43d6-a038-dbd6f07ce622"
      },
      "execution_count": 17,
      "outputs": [
        {
          "output_type": "execute_result",
          "data": {
            "text/plain": [
              "<matplotlib.axes._subplots.AxesSubplot at 0x7f1c2c52e750>"
            ]
          },
          "metadata": {},
          "execution_count": 17
        },
        {
          "output_type": "display_data",
          "data": {
            "text/plain": [
              "<Figure size 432x288 with 1 Axes>"
            ],
            "image/png": "[encoded data removed]"
          },
          "metadata": {
            "needs_background": "light"
          }
        }
      ]
    },
    {
      "cell_type": "markdown",
      "source": [
        "## 3. Checking Stationarity of data"
      ],
      "metadata": {
        "id": "FOhkWwTL1o6-"
      }
    },
    {
      "cell_type": "markdown",
      "source": [
        "For checking whether data is stationary or not we applied dickey fuller test i.e. adfuller test"
      ],
      "metadata": {
        "id": "43anNULj2OHK"
      }
    },
    {
      "cell_type": "code",
      "source": [
        "# Importing necessary packages for adfuller test\n",
        "from statsmodels.tsa.stattools import adfuller"
      ],
      "metadata": {
        "id": "zQ9rx_pqzSgz"
      },
      "execution_count": 18,
      "outputs": []
    },
    {
      "cell_type": "code",
      "source": [
        "# Applying adfuller on sales data and store it in test result\n",
        "test_result=adfuller(data['sales'])"
      ],
      "metadata": {
        "id": "X9VobtvK2r00"
      },
      "execution_count": 19,
      "outputs": []
    },
    {
      "cell_type": "code",
      "source": [
        "#Ho: It is non stationary\n",
        "#H1: It is stationary\n",
        "\n",
        "def adfuller_test(sales):\n",
        "    result=adfuller(sales)\n",
        "    labels = ['ADF Test Statistic','p-value','#Lags Used','Number of Observations Used']\n",
        "    for value,label in zip(result,labels):\n",
        "        print(label+' : '+str(value) )\n",
        "    if result[1] <= 0.05:\n",
        "        print(\"Rejecting the Null hypothesis. Data has no unit root and is stationary\")\n",
        "    else:\n",
        "        print(\"Accepting the Null hypothesis, time series has a unit root, indicating it is non-stationary \")"
      ],
      "metadata": {
        "id": "g5H54Cnv3Axr"
      },
      "execution_count": 20,
      "outputs": []
    },
    {
      "cell_type": "code",
      "source": [
        "# Check whether data is stationary or not\n",
        "adfuller_test(data['sales'])"
      ],
      "metadata": {
        "colab": {
          "base_uri": "https://localhost:8080/"
        },
        "id": "JTK1-IaJ3dCD",
        "outputId": "88d80c1b-3858-4fd5-ce02-bf21aba22be6"
      },
      "execution_count": 21,
      "outputs": [
        {
          "output_type": "stream",
          "name": "stdout",
          "text": [
            "ADF Test Statistic : -4.570251606630181\n",
            "p-value : 0.00014649839461232977\n",
            "#Lags Used : 11\n",
            "Number of Observations Used : 48\n",
            "Rejecting the Null hypothesis. Data has no unit root and is stationary\n"
          ]
        }
      ]
    },
    {
      "cell_type": "markdown",
      "source": [
        "## 4. Differencing"
      ],
      "metadata": {
        "id": "DHBT5VJ-7m4g"
      }
    },
    {
      "cell_type": "code",
      "source": [
        "# Shifting one position of sales data\n",
        "data['Sales Difference 1'] = data['sales'] - data['sales'].shift(1)"
      ],
      "metadata": {
        "id": "iHqvn8Sk3mAy"
      },
      "execution_count": 22,
      "outputs": []
    },
    {
      "cell_type": "code",
      "source": [
        "# view the data shifted by 1\n",
        "data['sales'].shift(1)"
      ],
      "metadata": {
        "colab": {
          "base_uri": "https://localhost:8080/"
        },
        "id": "LMiBU8dU8hfF",
        "outputId": "a329b008-a589-42e0-d4df-a7436b8f7bcf"
      },
      "execution_count": 23,
      "outputs": [
        {
          "output_type": "execute_result",
          "data": {
            "text/plain": [
              "date\n",
              "2013-01-31          NaN\n",
              "2013-02-28     536883.0\n",
              "2013-03-31     521637.0\n",
              "2013-04-30     643749.0\n",
              "2013-05-31     667252.0\n",
              "2013-06-30     720997.0\n",
              "2013-07-31     746372.0\n",
              "2013-08-31     793851.0\n",
              "2013-09-30     727523.0\n",
              "2013-10-31     676658.0\n",
              "2013-11-30     664343.0\n",
              "2013-12-31     668886.0\n",
              "2014-01-31     573092.0\n",
              "2014-02-28     615080.0\n",
              "2014-03-31     607211.0\n",
              "2014-04-30     723835.0\n",
              "2014-05-31     772001.0\n",
              "2014-06-30     843113.0\n",
              "2014-07-31     856320.0\n",
              "2014-08-31     900554.0\n",
              "2014-09-30     843037.0\n",
              "2014-10-31     779943.0\n",
              "2014-11-30     748948.0\n",
              "2014-12-31     784346.0\n",
              "2015-01-31     661094.0\n",
              "2015-02-28     653200.0\n",
              "2015-03-31     621952.0\n",
              "2015-04-30     764884.0\n",
              "2015-05-31     803324.0\n",
              "2015-06-30     889249.0\n",
              "2015-07-31     880471.0\n",
              "2015-08-31     937528.0\n",
              "2015-09-30     883424.0\n",
              "2015-10-31     795436.0\n",
              "2015-11-30     799267.0\n",
              "2015-12-31     819680.0\n",
              "2016-01-31     688472.0\n",
              "2016-02-29     706382.0\n",
              "2016-03-31     707595.0\n",
              "2016-04-30     833097.0\n",
              "2016-05-31     874209.0\n",
              "2016-06-30     946312.0\n",
              "2016-07-31     943218.0\n",
              "2016-08-31    1035411.0\n",
              "2016-09-30     942790.0\n",
              "2016-10-31     878079.0\n",
              "2016-11-30     882951.0\n",
              "2016-12-31     866596.0\n",
              "2017-01-31     740520.0\n",
              "2017-02-28     737385.0\n",
              "2017-03-31     706905.0\n",
              "2017-04-30     847415.0\n",
              "2017-05-31     918907.0\n",
              "2017-06-30     985624.0\n",
              "2017-07-31     975327.0\n",
              "2017-08-31    1074713.0\n",
              "2017-09-30     984531.0\n",
              "2017-10-31     918170.0\n",
              "2017-11-30     902307.0\n",
              "2017-12-31     898137.0\n",
              "Freq: M, Name: sales, dtype: float64"
            ]
          },
          "metadata": {},
          "execution_count": 23
        }
      ]
    },
    {
      "cell_type": "code",
      "source": [
        "# Shifting data position by 12 as our data consist of 12 months\n",
        "data['Seasonal Difference 1']=data['sales']-data['sales'].shift(12)"
      ],
      "metadata": {
        "id": "lhoE2UC58xQY"
      },
      "execution_count": 24,
      "outputs": []
    },
    {
      "cell_type": "code",
      "source": [
        "# view the data\n",
        "data.head(10)"
      ],
      "metadata": {
        "colab": {
          "base_uri": "https://localhost:8080/",
          "height": 394
        },
        "id": "S191SmGm9QRT",
        "outputId": "ba895bb2-bac7-43f8-e333-1177d4d5dcd6"
      },
      "execution_count": 25,
      "outputs": [
        {
          "output_type": "execute_result",
          "data": {
            "text/plain": [
              "             sales  Sales Difference 1  Seasonal Difference 1\n",
              "date                                                         \n",
              "2013-01-31  536883                 NaN                    NaN\n",
              "2013-02-28  521637            -15246.0                    NaN\n",
              "2013-03-31  643749            122112.0                    NaN\n",
              "2013-04-30  667252             23503.0                    NaN\n",
              "2013-05-31  720997             53745.0                    NaN\n",
              "2013-06-30  746372             25375.0                    NaN\n",
              "2013-07-31  793851             47479.0                    NaN\n",
              "2013-08-31  727523            -66328.0                    NaN\n",
              "2013-09-30  676658            -50865.0                    NaN\n",
              "2013-10-31  664343            -12315.0                    NaN"
            ],
            "text/html": [
              "\n",
              "  <div id=\"df-4e3cb410-2f18-457e-94e4-28a4478a0b96\">\n",
              "    <div class=\"colab-df-container\">\n",
              "      <div>\n",
              "<style scoped>\n",
              "    .dataframe tbody tr th:only-of-type {\n",
              "        vertical-align: middle;\n",
              "    }\n",
              "\n",
              "    .dataframe tbody tr th {\n",
              "        vertical-align: top;\n",
              "    }\n",
              "\n",
              "    .dataframe thead th {\n",
              "        text-align: right;\n",
              "    }\n",
              "</style>\n",
              "<table border=\"1\" class=\"dataframe\">\n",
              "  <thead>\n",
              "    <tr style=\"text-align: right;\">\n",
              "      <th></th>\n",
              "      <th>sales</th>\n",
              "      <th>Sales Difference 1</th>\n",
              "      <th>Seasonal Difference 1</th>\n",
              "    </tr>\n",
              "    <tr>\n",
              "      <th>date</th>\n",
              "      <th></th>\n",
              "      <th></th>\n",
              "      <th></th>\n",
              "    </tr>\n",
              "  </thead>\n",
              "  <tbody>\n",
              "    <tr>\n",
              "      <th>2013-01-31</th>\n",
              "      <td>536883</td>\n",
              "      <td>NaN</td>\n",
              "      <td>NaN</td>\n",
              "    </tr>\n",
              "    <tr>\n",
              "      <th>2013-02-28</th>\n",
              "      <td>521637</td>\n",
              "      <td>-15246.0</td>\n",
              "      <td>NaN</td>\n",
              "    </tr>\n",
              "    <tr>\n",
              "      <th>2013-03-31</th>\n",
              "      <td>643749</td>\n",
              "      <td>122112.0</td>\n",
              "      <td>NaN</td>\n",
              "    </tr>\n",
              "    <tr>\n",
              "      <th>2013-04-30</th>\n",
              "      <td>667252</td>\n",
              "      <td>23503.0</td>\n",
              "      <td>NaN</td>\n",
              "    </tr>\n",
              "    <tr>\n",
              "      <th>2013-05-31</th>\n",
              "      <td>720997</td>\n",
              "      <td>53745.0</td>\n",
              "      <td>NaN</td>\n",
              "    </tr>\n",
              "    <tr>\n",
              "      <th>2013-06-30</th>\n",
              "      <td>746372</td>\n",
              "      <td>25375.0</td>\n",
              "      <td>NaN</td>\n",
              "    </tr>\n",
              "    <tr>\n",
              "      <th>2013-07-31</th>\n",
              "      <td>793851</td>\n",
              "      <td>47479.0</td>\n",
              "      <td>NaN</td>\n",
              "    </tr>\n",
              "    <tr>\n",
              "      <th>2013-08-31</th>\n",
              "      <td>727523</td>\n",
              "      <td>-66328.0</td>\n",
              "      <td>NaN</td>\n",
              "    </tr>\n",
              "    <tr>\n",
              "      <th>2013-09-30</th>\n",
              "      <td>676658</td>\n",
              "      <td>-50865.0</td>\n",
              "      <td>NaN</td>\n",
              "    </tr>\n",
              "    <tr>\n",
              "      <th>2013-10-31</th>\n",
              "      <td>664343</td>\n",
              "      <td>-12315.0</td>\n",
              "      <td>NaN</td>\n",
              "    </tr>\n",
              "  </tbody>\n",
              "</table>\n",
              "</div>\n",
              "      <button class=\"colab-df-convert\" onclick=\"convertToInteractive('df-4e3cb410-2f18-457e-94e4-28a4478a0b96')\"\n",
              "              title=\"Convert this dataframe to an interactive table.\"\n",
              "              style=\"display:none;\">\n",
              "        \n",
              "  <svg xmlns=\"http://www.w3.org/2000/svg\" height=\"24px\"viewBox=\"0 0 24 24\"\n",
              "       width=\"24px\">\n",
              "    <path d=\"M0 0h24v24H0V0z\" fill=\"none\"/>\n",
              "    <path d=\"M18.56 5.44l.94 2.06.94-2.06 2.06-.94-2.06-.94-.94-2.06-.94 2.06-2.06.94zm-11 1L8.5 8.5l.94-2.06 2.06-.94-2.06-.94L8.5 2.5l-.94 2.06-2.06.94zm10 10l.94 2.06.94-2.06 2.06-.94-2.06-.94-.94-2.06-.94 2.06-2.06.94z\"/><path d=\"M17.41 7.96l-1.37-1.37c-.4-.4-.92-.59-1.43-.59-.52 0-1.04.2-1.43.59L10.3 9.45l-7.72 7.72c-.78.78-.78 2.05 0 2.83L4 21.41c.39.39.9.59 1.41.59.51 0 1.02-.2 1.41-.59l7.78-7.78 2.81-2.81c.8-.78.8-2.07 0-2.86zM5.41 20L4 18.59l7.72-7.72 1.47 1.35L5.41 20z\"/>\n",
              "  </svg>\n",
              "      </button>\n",
              "      \n",
              "  <style>\n",
              "    .colab-df-container {\n",
              "      display:flex;\n",
              "      flex-wrap:wrap;\n",
              "      gap: 12px;\n",
              "    }\n",
              "\n",
              "    .colab-df-convert {\n",
              "      background-color: #E8F0FE;\n",
              "      border: none;\n",
              "      border-radius: 50%;\n",
              "      cursor: pointer;\n",
              "      display: none;\n",
              "      fill: #1967D2;\n",
              "      height: 32px;\n",
              "      padding: 0 0 0 0;\n",
              "      width: 32px;\n",
              "    }\n",
              "\n",
              "    .colab-df-convert:hover {\n",
              "      background-color: #E2EBFA;\n",
              "      box-shadow: 0px 1px 2px rgba(60, 64, 67, 0.3), 0px 1px 3px 1px rgba(60, 64, 67, 0.15);\n",
              "      fill: #174EA6;\n",
              "    }\n",
              "\n",
              "    [theme=dark] .colab-df-convert {\n",
              "      background-color: #3B4455;\n",
              "      fill: #D2E3FC;\n",
              "    }\n",
              "\n",
              "    [theme=dark] .colab-df-convert:hover {\n",
              "      background-color: #434B5C;\n",
              "      box-shadow: 0px 1px 3px 1px rgba(0, 0, 0, 0.15);\n",
              "      filter: drop-shadow(0px 1px 2px rgba(0, 0, 0, 0.3));\n",
              "      fill: #FFFFFF;\n",
              "    }\n",
              "  </style>\n",
              "\n",
              "      <script>\n",
              "        const buttonEl =\n",
              "          document.querySelector('#df-4e3cb410-2f18-457e-94e4-28a4478a0b96 button.colab-df-convert');\n",
              "        buttonEl.style.display =\n",
              "          google.colab.kernel.accessAllowed ? 'block' : 'none';\n",
              "\n",
              "        async function convertToInteractive(key) {\n",
              "          const element = document.querySelector('#df-4e3cb410-2f18-457e-94e4-28a4478a0b96');\n",
              "          const dataTable =\n",
              "            await google.colab.kernel.invokeFunction('convertToInteractive',\n",
              "                                                     [key], {});\n",
              "          if (!dataTable) return;\n",
              "\n",
              "          const docLinkHtml = 'Like what you see? Visit the ' +\n",
              "            '<a target=\"_blank\" href=https://colab.research.google.com/notebooks/data_table.ipynb>data table notebook</a>'\n",
              "            + ' to learn more about interactive tables.';\n",
              "          element.innerHTML = '';\n",
              "          dataTable['output_type'] = 'display_data';\n",
              "          await google.colab.output.renderOutput(dataTable, element);\n",
              "          const docLink = document.createElement('div');\n",
              "          docLink.innerHTML = docLinkHtml;\n",
              "          element.appendChild(docLink);\n",
              "        }\n",
              "      </script>\n",
              "    </div>\n",
              "  </div>\n",
              "  "
            ]
          },
          "metadata": {},
          "execution_count": 25
        }
      ]
    },
    {
      "cell_type": "code",
      "source": [
        "# Again test dickey fuller test\n",
        "adfuller_test(data['Seasonal Difference 1'].dropna())"
      ],
      "metadata": {
        "colab": {
          "base_uri": "https://localhost:8080/"
        },
        "id": "Dkkqv2m69X97",
        "outputId": "ebb9614f-ddc5-42ba-864e-47257afb2e95"
      },
      "execution_count": 26,
      "outputs": [
        {
          "output_type": "stream",
          "name": "stdout",
          "text": [
            "ADF Test Statistic : -2.395080360618435\n",
            "p-value : 0.14312975778856124\n",
            "#Lags Used : 0\n",
            "Number of Observations Used : 47\n",
            "Accepting the Null hypothesis, time series has a unit root, indicating it is non-stationary \n"
          ]
        }
      ]
    },
    {
      "cell_type": "code",
      "source": [
        "# Plot the graph to see stationarity of data\n",
        "data['Seasonal Difference 1'].plot()"
      ],
      "metadata": {
        "colab": {
          "base_uri": "https://localhost:8080/",
          "height": 296
        },
        "id": "Y20oZwVm90P7",
        "outputId": "5bb21467-f332-434b-c717-aa43a49bd5a6"
      },
      "execution_count": 27,
      "outputs": [
        {
          "output_type": "execute_result",
          "data": {
            "text/plain": [
              "<matplotlib.axes._subplots.AxesSubplot at 0x7f1c2a8e1810>"
            ]
          },
          "metadata": {},
          "execution_count": 27
        },
        {
          "output_type": "display_data",
          "data": {
            "text/plain": [
              "<Figure size 432x288 with 1 Axes>"
            ],
            "image/png": "[encoded data removed]"
          },
          "metadata": {
            "needs_background": "light"
          }
        }
      ]
    },
    {
      "cell_type": "markdown",
      "source": [
        "## 5. Autocorrelation plot\n",
        "Identification of an AR model is often best done with the PACF( partial autocorrelation)"
      ],
      "metadata": {
        "id": "Fv1kHR6t_tNe"
      }
    },
    {
      "cell_type": "code",
      "source": [
        "# Plotting Autocorrelation graph\n",
        "from pandas.plotting import autocorrelation_plot\n",
        "\n",
        "autocorrelation_plot(data['sales'])\n",
        "\n",
        "plt.show()"
      ],
      "metadata": {
        "colab": {
          "base_uri": "https://localhost:8080/",
          "height": 283
        },
        "id": "bGSO8Rnr-UWs",
        "outputId": "303983d5-c1c5-4b69-e5fa-c6dc17396540"
      },
      "execution_count": 28,
      "outputs": [
        {
          "output_type": "display_data",
          "data": {
            "text/plain": [
              "<Figure size 432x288 with 1 Axes>"
            ],
            "image/png": "[encoded data removed]"
          },
          "metadata": {
            "needs_background": "light"
          }
        }
      ]
    },
    {
      "cell_type": "code",
      "source": [
        "# Importing necessary packages for ACF(Autocorrelation function) and PACF(Partial Autocorrelation function)\n",
        "from statsmodels.graphics.tsaplots import plot_acf,plot_pacf\n",
        "import statsmodels.api as sm #for decomposing the trends, seasonality etc."
      ],
      "metadata": {
        "id": "kEA6Su7y_7hP"
      },
      "execution_count": 29,
      "outputs": []
    },
    {
      "cell_type": "code",
      "source": [
        "# Plotting ACF and PACF\n",
        "fig = plt.figure(figsize=(12,8))\n",
        "\n",
        "ax1 = fig.add_subplot(211)\n",
        "\n",
        "fig = sm.graphics.tsa.plot_acf(data['Seasonal Difference 1'].iloc[13:],lags=40,ax=ax1)\n",
        "\n",
        "ax2 = fig.add_subplot(212)\n",
        "\n",
        "fig = sm.graphics.tsa.plot_pacf(data['Seasonal Difference 1'].iloc[13:],lags=22,ax=ax2)\n"
      ],
      "metadata": {
        "colab": {
          "base_uri": "https://localhost:8080/",
          "height": 499
        },
        "id": "rlkomZ1LAwND",
        "outputId": "77e67cb4-b397-48fa-f67f-59a05a938170"
      },
      "execution_count": 30,
      "outputs": [
        {
          "output_type": "display_data",
          "data": {
            "text/plain": [
              "<Figure size 864x576 with 2 Axes>"
            ],
            "image/png": "[encoded data removed]"
          },
          "metadata": {
            "needs_background": "light"
          }
        }
      ]
    },
    {
      "cell_type": "markdown",
      "source": [
        "## 6. ARIMA Model\n",
        " ARIMA works better on non seasonal data as our data is seasonal the forecasting will not be performed well"
      ],
      "metadata": {
        "id": "40UIzB7qBrga"
      }
    },
    {
      "cell_type": "code",
      "source": [
        "# Importing necessary packages\n",
        "# p=1, d=1, q=0 or 1\n",
        "from statsmodels.tsa.arima_model import ARIMA"
      ],
      "metadata": {
        "id": "Fmf2Ymb1BE8e"
      },
      "execution_count": 31,
      "outputs": []
    },
    {
      "cell_type": "code",
      "source": [
        "model=ARIMA(data['sales'],order=(1,1,1))\n",
        "model_fit=model.fit()"
      ],
      "metadata": {
        "colab": {
          "base_uri": "https://localhost:8080/"
        },
        "id": "nv6isVKmC6oV",
        "outputId": "b7ae143f-93ba-4d90-c9b9-d2c4ec912460"
      },
      "execution_count": 32,
      "outputs": [
        {
          "output_type": "stream",
          "name": "stderr",
          "text": [
            "/usr/local/lib/python3.7/dist-packages/statsmodels/tsa/arima_model.py:472: FutureWarning: \n",
            "statsmodels.tsa.arima_model.ARMA and statsmodels.tsa.arima_model.ARIMA have\n",
            "been deprecated in favor of statsmodels.tsa.arima.model.ARIMA (note the .\n",
            "between arima and model) and\n",
            "statsmodels.tsa.SARIMAX. These will be removed after the 0.12 release.\n",
            "\n",
            "statsmodels.tsa.arima.model.ARIMA makes use of the statespace framework and\n",
            "is both well tested and maintained.\n",
            "\n",
            "To silence this warning and continue using ARMA and ARIMA until they are\n",
            "removed, use:\n",
            "\n",
            "import warnings\n",
            "warnings.filterwarnings('ignore', 'statsmodels.tsa.arima_model.ARMA',\n",
            "                        FutureWarning)\n",
            "warnings.filterwarnings('ignore', 'statsmodels.tsa.arima_model.ARIMA',\n",
            "                        FutureWarning)\n",
            "\n",
            "  warnings.warn(ARIMA_DEPRECATION_WARN, FutureWarning)\n"
          ]
        }
      ]
    },
    {
      "cell_type": "code",
      "source": [
        "model_fit.summary()"
      ],
      "metadata": {
        "colab": {
          "base_uri": "https://localhost:8080/",
          "height": 350
        },
        "id": "sBRdmiBUDXI4",
        "outputId": "fa8546ab-51c1-4fbe-8881-c8da985ec15d"
      },
      "execution_count": 33,
      "outputs": [
        {
          "output_type": "execute_result",
          "data": {
            "text/plain": [
              "<class 'statsmodels.iolib.summary.Summary'>\n",
              "\"\"\"\n",
              "                             ARIMA Model Results                              \n",
              "==============================================================================\n",
              "Dep. Variable:                D.sales   No. Observations:                   59\n",
              "Model:                 ARIMA(1, 1, 1)   Log Likelihood                -739.991\n",
              "Method:                       css-mle   S.D. of innovations          67720.160\n",
              "Date:                Mon, 14 Nov 2022   AIC                           1487.983\n",
              "Time:                        06:44:19   BIC                           1496.293\n",
              "Sample:                    02-28-2013   HQIC                          1491.227\n",
              "                         - 12-31-2017                                         \n",
              "=================================================================================\n",
              "                    coef    std err          z      P>|z|      [0.025      0.975]\n",
              "---------------------------------------------------------------------------------\n",
              "const          4193.8305   1.05e+04      0.398      0.691   -1.65e+04    2.49e+04\n",
              "ar.L1.D.sales     0.4366      0.347      1.259      0.208      -0.243       1.116\n",
              "ma.L1.D.sales    -0.3231      0.345     -0.938      0.348      -0.999       0.352\n",
              "                                    Roots                                    \n",
              "=============================================================================\n",
              "                  Real          Imaginary           Modulus         Frequency\n",
              "-----------------------------------------------------------------------------\n",
              "AR.1            2.2906           +0.0000j            2.2906            0.0000\n",
              "MA.1            3.0949           +0.0000j            3.0949            0.0000\n",
              "-----------------------------------------------------------------------------\n",
              "\"\"\""
            ],
            "text/html": [
              "<table class=\"simpletable\">\n",
              "<caption>ARIMA Model Results</caption>\n",
              "<tr>\n",
              "  <th>Dep. Variable:</th>      <td>D.sales</td>     <th>  No. Observations:  </th>    <td>59</td>    \n",
              "</tr>\n",
              "<tr>\n",
              "  <th>Model:</th>          <td>ARIMA(1, 1, 1)</td>  <th>  Log Likelihood     </th> <td>-739.991</td> \n",
              "</tr>\n",
              "<tr>\n",
              "  <th>Method:</th>             <td>css-mle</td>     <th>  S.D. of innovations</th> <td>67720.160</td>\n",
              "</tr>\n",
              "<tr>\n",
              "  <th>Date:</th>          <td>Mon, 14 Nov 2022</td> <th>  AIC                </th> <td>1487.983</td> \n",
              "</tr>\n",
              "<tr>\n",
              "  <th>Time:</th>              <td>06:44:19</td>     <th>  BIC                </th> <td>1496.293</td> \n",
              "</tr>\n",
              "<tr>\n",
              "  <th>Sample:</th>           <td>02-28-2013</td>    <th>  HQIC               </th> <td>1491.227</td> \n",
              "</tr>\n",
              "<tr>\n",
              "  <th></th>                 <td>- 12-31-2017</td>   <th>                     </th>     <td> </td>    \n",
              "</tr>\n",
              "</table>\n",
              "<table class=\"simpletable\">\n",
              "<tr>\n",
              "        <td></td>           <th>coef</th>     <th>std err</th>      <th>z</th>      <th>P>|z|</th>  <th>[0.025</th>    <th>0.975]</th>  \n",
              "</tr>\n",
              "<tr>\n",
              "  <th>const</th>         <td> 4193.8305</td> <td> 1.05e+04</td> <td>    0.398</td> <td> 0.691</td> <td>-1.65e+04</td> <td> 2.49e+04</td>\n",
              "</tr>\n",
              "<tr>\n",
              "  <th>ar.L1.D.sales</th> <td>    0.4366</td> <td>    0.347</td> <td>    1.259</td> <td> 0.208</td> <td>   -0.243</td> <td>    1.116</td>\n",
              "</tr>\n",
              "<tr>\n",
              "  <th>ma.L1.D.sales</th> <td>   -0.3231</td> <td>    0.345</td> <td>   -0.938</td> <td> 0.348</td> <td>   -0.999</td> <td>    0.352</td>\n",
              "</tr>\n",
              "</table>\n",
              "<table class=\"simpletable\">\n",
              "<caption>Roots</caption>\n",
              "<tr>\n",
              "    <td></td>   <th>            Real</th>  <th>         Imaginary</th> <th>         Modulus</th>  <th>        Frequency</th>\n",
              "</tr>\n",
              "<tr>\n",
              "  <th>AR.1</th> <td>           2.2906</td> <td>          +0.0000j</td> <td>           2.2906</td> <td>           0.0000</td>\n",
              "</tr>\n",
              "<tr>\n",
              "  <th>MA.1</th> <td>           3.0949</td> <td>          +0.0000j</td> <td>           3.0949</td> <td>           0.0000</td>\n",
              "</tr>\n",
              "</table>"
            ]
          },
          "metadata": {},
          "execution_count": 33
        }
      ]
    },
    {
      "cell_type": "code",
      "source": [
        "# Graph of forecasting the data\n",
        "data['forecast']=model_fit.predict(start=45,end=80,dynamic=True)\n",
        "data[['sales','forecast']].plot(figsize=(12,8))"
      ],
      "metadata": {
        "colab": {
          "base_uri": "https://localhost:8080/",
          "height": 525
        },
        "id": "RrqlAJvWDeo5",
        "outputId": "68628c56-5848-450b-9ebf-9b5b5ef31e16"
      },
      "execution_count": 34,
      "outputs": [
        {
          "output_type": "execute_result",
          "data": {
            "text/plain": [
              "<matplotlib.axes._subplots.AxesSubplot at 0x7f1c34073a10>"
            ]
          },
          "metadata": {},
          "execution_count": 34
        },
        {
          "output_type": "display_data",
          "data": {
            "text/plain": [
              "<Figure size 864x576 with 1 Axes>"
            ],
            "image/png": "[encoded data removed]"
          },
          "metadata": {
            "needs_background": "light"
          }
        }
      ]
    },
    {
      "cell_type": "markdown",
      "source": [
        "since ARIMA Model did not conclude proper forecasting we used Seasonal ARIMAX for better forecasting"
      ],
      "metadata": {
        "id": "CkPQk_rXEK17"
      }
    },
    {
      "cell_type": "markdown",
      "source": [
        "### Seasonal ARIMAX"
      ],
      "metadata": {
        "id": "X6S6z_J1EfqB"
      }
    },
    {
      "cell_type": "code",
      "source": [
        "# Building model on sales data\n",
        "model=sm.tsa.statespace.SARIMAX(data['sales'],order=(1, 1, 1),seasonal_order=(1,1,1,12))\n",
        "results=model.fit()"
      ],
      "metadata": {
        "colab": {
          "base_uri": "https://localhost:8080/"
        },
        "id": "xwlr1lLyDq7B",
        "outputId": "2dbcb4e7-fb27-4956-9c3e-27d88642ce02"
      },
      "execution_count": 35,
      "outputs": [
        {
          "output_type": "stream",
          "name": "stderr",
          "text": [
            "/usr/local/lib/python3.7/dist-packages/statsmodels/tsa/statespace/sarimax.py:1009: UserWarning: Non-invertible starting seasonal moving average Using zeros as starting parameters.\n",
            "  warn('Non-invertible starting seasonal moving average'\n"
          ]
        }
      ]
    },
    {
      "cell_type": "code",
      "source": [
        "# Graph of actual and forecasted data\n",
        "data['forecast']=results.predict(start=45,end=60,dynamic=True)\n",
        "data[['sales','forecast']].plot(figsize=(12,8))"
      ],
      "metadata": {
        "colab": {
          "base_uri": "https://localhost:8080/",
          "height": 525
        },
        "id": "_XoRhXJFEwBk",
        "outputId": "d2e68ecb-d63c-43f2-8620-d8341f828124"
      },
      "execution_count": 36,
      "outputs": [
        {
          "output_type": "execute_result",
          "data": {
            "text/plain": [
              "<matplotlib.axes._subplots.AxesSubplot at 0x7f1c1ec4b1d0>"
            ]
          },
          "metadata": {},
          "execution_count": 36
        },
        {
          "output_type": "display_data",
          "data": {
            "text/plain": [
              "<Figure size 864x576 with 1 Axes>"
            ],
            "image/png": "[encoded data removed]"
          },
          "metadata": {
            "needs_background": "light"
          }
        }
      ]
    },
    {
      "cell_type": "markdown",
      "source": [
        "## 7. Future prediction or Forecasting "
      ],
      "metadata": {
        "id": "bN2jHTdoFdEe"
      }
    },
    {
      "cell_type": "code",
      "source": [
        "# Importing necessary package to get future dates and values\n",
        "from pandas.tseries.offsets import DateOffset\n",
        "future_dates=[data.index[-1]+ DateOffset(months=x)for x in range(0,24)]"
      ],
      "metadata": {
        "id": "nJLDOaG2E5fx"
      },
      "execution_count": 37,
      "outputs": []
    },
    {
      "cell_type": "code",
      "source": [
        "# Future dates and sales dataframe\n",
        "future_dates_data=pd.DataFrame(index=future_dates[1:],columns=df.columns)\n",
        "future_dates_data.tail()"
      ],
      "metadata": {
        "colab": {
          "base_uri": "https://localhost:8080/",
          "height": 206
        },
        "id": "Jtyu3KQkF4ot",
        "outputId": "4e62e233-5bbe-46b5-84d3-c5e9fae9bb3c"
      },
      "execution_count": 38,
      "outputs": [
        {
          "output_type": "execute_result",
          "data": {
            "text/plain": [
              "           store Cars sales Year Month\n",
              "2019-07-31   NaN  NaN   NaN  NaN   NaN\n",
              "2019-08-31   NaN  NaN   NaN  NaN   NaN\n",
              "2019-09-30   NaN  NaN   NaN  NaN   NaN\n",
              "2019-10-31   NaN  NaN   NaN  NaN   NaN\n",
              "2019-11-30   NaN  NaN   NaN  NaN   NaN"
            ],
            "text/html": [
              "\n",
              "  <div id=\"df-582e8297-f30a-495d-9892-85385ccd9038\">\n",
              "    <div class=\"colab-df-container\">\n",
              "      <div>\n",
              "<style scoped>\n",
              "    .dataframe tbody tr th:only-of-type {\n",
              "        vertical-align: middle;\n",
              "    }\n",
              "\n",
              "    .dataframe tbody tr th {\n",
              "        vertical-align: top;\n",
              "    }\n",
              "\n",
              "    .dataframe thead th {\n",
              "        text-align: right;\n",
              "    }\n",
              "</style>\n",
              "<table border=\"1\" class=\"dataframe\">\n",
              "  <thead>\n",
              "    <tr style=\"text-align: right;\">\n",
              "      <th></th>\n",
              "      <th>store</th>\n",
              "      <th>Cars</th>\n",
              "      <th>sales</th>\n",
              "      <th>Year</th>\n",
              "      <th>Month</th>\n",
              "    </tr>\n",
              "  </thead>\n",
              "  <tbody>\n",
              "    <tr>\n",
              "      <th>2019-07-31</th>\n",
              "      <td>NaN</td>\n",
              "      <td>NaN</td>\n",
              "      <td>NaN</td>\n",
              "      <td>NaN</td>\n",
              "      <td>NaN</td>\n",
              "    </tr>\n",
              "    <tr>\n",
              "      <th>2019-08-31</th>\n",
              "      <td>NaN</td>\n",
              "      <td>NaN</td>\n",
              "      <td>NaN</td>\n",
              "      <td>NaN</td>\n",
              "      <td>NaN</td>\n",
              "    </tr>\n",
              "    <tr>\n",
              "      <th>2019-09-30</th>\n",
              "      <td>NaN</td>\n",
              "      <td>NaN</td>\n",
              "      <td>NaN</td>\n",
              "      <td>NaN</td>\n",
              "      <td>NaN</td>\n",
              "    </tr>\n",
              "    <tr>\n",
              "      <th>2019-10-31</th>\n",
              "      <td>NaN</td>\n",
              "      <td>NaN</td>\n",
              "      <td>NaN</td>\n",
              "      <td>NaN</td>\n",
              "      <td>NaN</td>\n",
              "    </tr>\n",
              "    <tr>\n",
              "      <th>2019-11-30</th>\n",
              "      <td>NaN</td>\n",
              "      <td>NaN</td>\n",
              "      <td>NaN</td>\n",
              "      <td>NaN</td>\n",
              "      <td>NaN</td>\n",
              "    </tr>\n",
              "  </tbody>\n",
              "</table>\n",
              "</div>\n",
              "      <button class=\"colab-df-convert\" onclick=\"convertToInteractive('df-582e8297-f30a-495d-9892-85385ccd9038')\"\n",
              "              title=\"Convert this dataframe to an interactive table.\"\n",
              "              style=\"display:none;\">\n",
              "        \n",
              "  <svg xmlns=\"http://www.w3.org/2000/svg\" height=\"24px\"viewBox=\"0 0 24 24\"\n",
              "       width=\"24px\">\n",
              "    <path d=\"M0 0h24v24H0V0z\" fill=\"none\"/>\n",
              "    <path d=\"M18.56 5.44l.94 2.06.94-2.06 2.06-.94-2.06-.94-.94-2.06-.94 2.06-2.06.94zm-11 1L8.5 8.5l.94-2.06 2.06-.94-2.06-.94L8.5 2.5l-.94 2.06-2.06.94zm10 10l.94 2.06.94-2.06 2.06-.94-2.06-.94-.94-2.06-.94 2.06-2.06.94z\"/><path d=\"M17.41 7.96l-1.37-1.37c-.4-.4-.92-.59-1.43-.59-.52 0-1.04.2-1.43.59L10.3 9.45l-7.72 7.72c-.78.78-.78 2.05 0 2.83L4 21.41c.39.39.9.59 1.41.59.51 0 1.02-.2 1.41-.59l7.78-7.78 2.81-2.81c.8-.78.8-2.07 0-2.86zM5.41 20L4 18.59l7.72-7.72 1.47 1.35L5.41 20z\"/>\n",
              "  </svg>\n",
              "      </button>\n",
              "      \n",
              "  <style>\n",
              "    .colab-df-container {\n",
              "      display:flex;\n",
              "      flex-wrap:wrap;\n",
              "      gap: 12px;\n",
              "    }\n",
              "\n",
              "    .colab-df-convert {\n",
              "      background-color: #E8F0FE;\n",
              "      border: none;\n",
              "      border-radius: 50%;\n",
              "      cursor: pointer;\n",
              "      display: none;\n",
              "      fill: #1967D2;\n",
              "      height: 32px;\n",
              "      padding: 0 0 0 0;\n",
              "      width: 32px;\n",
              "    }\n",
              "\n",
              "    .colab-df-convert:hover {\n",
              "      background-color: #E2EBFA;\n",
              "      box-shadow: 0px 1px 2px rgba(60, 64, 67, 0.3), 0px 1px 3px 1px rgba(60, 64, 67, 0.15);\n",
              "      fill: #174EA6;\n",
              "    }\n",
              "\n",
              "    [theme=dark] .colab-df-convert {\n",
              "      background-color: #3B4455;\n",
              "      fill: #D2E3FC;\n",
              "    }\n",
              "\n",
              "    [theme=dark] .colab-df-convert:hover {\n",
              "      background-color: #434B5C;\n",
              "      box-shadow: 0px 1px 3px 1px rgba(0, 0, 0, 0.15);\n",
              "      filter: drop-shadow(0px 1px 2px rgba(0, 0, 0, 0.3));\n",
              "      fill: #FFFFFF;\n",
              "    }\n",
              "  </style>\n",
              "\n",
              "      <script>\n",
              "        const buttonEl =\n",
              "          document.querySelector('#df-582e8297-f30a-495d-9892-85385ccd9038 button.colab-df-convert');\n",
              "        buttonEl.style.display =\n",
              "          google.colab.kernel.accessAllowed ? 'block' : 'none';\n",
              "\n",
              "        async function convertToInteractive(key) {\n",
              "          const element = document.querySelector('#df-582e8297-f30a-495d-9892-85385ccd9038');\n",
              "          const dataTable =\n",
              "            await google.colab.kernel.invokeFunction('convertToInteractive',\n",
              "                                                     [key], {});\n",
              "          if (!dataTable) return;\n",
              "\n",
              "          const docLinkHtml = 'Like what you see? Visit the ' +\n",
              "            '<a target=\"_blank\" href=https://colab.research.google.com/notebooks/data_table.ipynb>data table notebook</a>'\n",
              "            + ' to learn more about interactive tables.';\n",
              "          element.innerHTML = '';\n",
              "          dataTable['output_type'] = 'display_data';\n",
              "          await google.colab.output.renderOutput(dataTable, element);\n",
              "          const docLink = document.createElement('div');\n",
              "          docLink.innerHTML = docLinkHtml;\n",
              "          element.appendChild(docLink);\n",
              "        }\n",
              "      </script>\n",
              "    </div>\n",
              "  </div>\n",
              "  "
            ]
          },
          "metadata": {},
          "execution_count": 38
        }
      ]
    },
    {
      "cell_type": "markdown",
      "source": [
        "From above dataframe we took some future values i.e. our dataset contains values till 2017  but in this dataframe we took values till 2019."
      ],
      "metadata": {
        "id": "pjVCDxoSGVIm"
      }
    },
    {
      "cell_type": "code",
      "source": [
        "# Concatenate data with future dates data\n",
        "future_data=pd.concat([data,future_dates_data])"
      ],
      "metadata": {
        "id": "2K5CqLxiGDPd"
      },
      "execution_count": 39,
      "outputs": []
    },
    {
      "cell_type": "code",
      "source": [
        "# Forecasting graph plot for future predicted values\n",
        "future_data['forecast'] = results.predict(start = 55 , end =75 , dynamic= True)  \n",
        "future_data[['sales', 'forecast']].plot(figsize=(12, 8))"
      ],
      "metadata": {
        "colab": {
          "base_uri": "https://localhost:8080/",
          "height": 511
        },
        "id": "4e4z1noxG5ig",
        "outputId": "3858307c-613a-42de-ad6c-0d514f17d321"
      },
      "execution_count": 40,
      "outputs": [
        {
          "output_type": "execute_result",
          "data": {
            "text/plain": [
              "<matplotlib.axes._subplots.AxesSubplot at 0x7f1c1ec178d0>"
            ]
          },
          "metadata": {},
          "execution_count": 40
        },
        {
          "output_type": "display_data",
          "data": {
            "text/plain": [
              "<Figure size 864x576 with 1 Axes>"
            ],
            "image/png": "[encoded data removed]"
          },
          "metadata": {
            "needs_background": "light"
          }
        }
      ]
    },
    {
      "cell_type": "markdown",
      "source": [
        "From the graph we can say that the sales of cars will increase in future and will be at the peak in july and august month"
      ],
      "metadata": {
        "id": "F5GpaY0fHWe2"
      }
    },
    {
      "cell_type": "code",
      "source": [],
      "metadata": {
        "id": "CwL0hoWTHP98"
      },
      "execution_count": null,
      "outputs": []
    }
  ]
}